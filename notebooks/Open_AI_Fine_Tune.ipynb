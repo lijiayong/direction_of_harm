{
  "nbformat": 4,
  "nbformat_minor": 0,
  "metadata": {
    "colab": {
      "provenance": [],
      "authorship_tag": "ABX9TyOnAsYykz/rASl/vwTKFZNb"
    },
    "kernelspec": {
      "name": "python3",
      "display_name": "Python 3"
    },
    "language_info": {
      "name": "python"
    }
  },
  "cells": [
    {
      "cell_type": "markdown",
      "source": [
        "This notebook is for fine-tuning Open AI gpt-4o-mini model. It's reproducible if the PATHS class is set up correctly."
      ],
      "metadata": {
        "id": "B8sySHBR92hD"
      }
    },
    {
      "cell_type": "code",
      "execution_count": null,
      "metadata": {
        "id": "xMtGtwhROSfK"
      },
      "outputs": [],
      "source": [
        "!pip3 install openai"
      ]
    },
    {
      "cell_type": "code",
      "source": [
        "from google.colab import drive\n",
        "drive.mount('/content/drive')"
      ],
      "metadata": {
        "id": "CUFTbR5kO04o"
      },
      "execution_count": null,
      "outputs": []
    },
    {
      "cell_type": "code",
      "source": [
        "import numpy as np, pandas as pd\n",
        "import json\n",
        "from openai import OpenAI\n",
        "from google.colab import userdata\n",
        "import matplotlib.pyplot as plt\n",
        "from sklearn.metrics import confusion_matrix, ConfusionMatrixDisplay, classification_report"
      ],
      "metadata": {
        "id": "1IOnKB0mO23m"
      },
      "execution_count": 3,
      "outputs": []
    },
    {
      "cell_type": "code",
      "source": [
        "class CONFIG:\n",
        "    model = 'gpt-4o-mini-2024-07-18'\n",
        "    epoch = 4\n",
        "    batch_size = 4\n",
        "    learning_rate_multiplier = 1.8\n",
        "    lines_per_task = 1"
      ],
      "metadata": {
        "id": "0SLtXJQn7f-w"
      },
      "execution_count": 4,
      "outputs": []
    },
    {
      "cell_type": "code",
      "source": [
        "class PATHS:\n",
        "    save = '/content/drive/MyDrive'\n",
        "    few_shot = f'{save}/few_shot_labeled.tsv'\n",
        "    train = f'{save}/ft-train_labeled.tsv'\n",
        "    valid = f'{save}/ft-valid_labeled.tsv'"
      ],
      "metadata": {
        "id": "Y3loBB-R5hSR"
      },
      "execution_count": 5,
      "outputs": []
    },
    {
      "cell_type": "code",
      "source": [
        "client = OpenAI(api_key=userdata.get(\"OPENAI_API_KEY\"))"
      ],
      "metadata": {
        "id": "iVJIrnX-4000"
      },
      "execution_count": 6,
      "outputs": []
    },
    {
      "cell_type": "markdown",
      "source": [
        "# Define Response Format"
      ],
      "metadata": {
        "id": "Ly_HMu9_Pnuv"
      }
    },
    {
      "cell_type": "code",
      "source": [
        "response_format = {\n",
        "    \"type\": \"json_schema\",\n",
        "    \"json_schema\": {\n",
        "        \"strict\": True,\n",
        "        \"name\": \"harmlabels\",\n",
        "        \"schema\": {\n",
        "            \"type\": \"object\",\n",
        "            \"properties\": {\n",
        "                \"id\": {\n",
        "                    \"type\": \"string\"\n",
        "                },\n",
        "                \"self_harm\": {\n",
        "                    \"type\": \"integer\",\n",
        "                    \"enum\": [0, 1]\n",
        "                },\n",
        "                \"harming_others\": {\n",
        "                    \"type\": \"integer\",\n",
        "                    \"enum\": [0, 1]\n",
        "                },\n",
        "                \"harmed_by_others\": {\n",
        "                    \"type\": \"integer\",\n",
        "                    \"enum\": [0, 1]\n",
        "                },\n",
        "                \"reference_to_harm\": {\n",
        "                    \"type\": \"integer\",\n",
        "                    \"enum\": [0, 1]\n",
        "                }\n",
        "            },\n",
        "            \"required\": [\n",
        "                \"id\", \"self_harm\", \"harming_others\", \"harmed_by_others\", \"reference_to_harm\"\n",
        "            ],\n",
        "            \"additionalProperties\": False\n",
        "        }\n",
        "    }\n",
        "}"
      ],
      "metadata": {
        "id": "20kai_hlhF4L"
      },
      "execution_count": 18,
      "outputs": []
    },
    {
      "cell_type": "markdown",
      "source": [
        "# Set Prompt"
      ],
      "metadata": {
        "id": "DiRJmz6fFClR"
      }
    },
    {
      "cell_type": "code",
      "source": [
        "instruction = \"\"\"You are a data labeler. The targets are 'self_harm', 'harming_others', 'harmed_by_others', and 'reference_to_harm', label each target as 0 or 1.\n",
        "1. 'self_harm': harm directed from me to me\n",
        "2. 'harming_others': harm directed from me to other people\n",
        "3. 'harmed_by_others': harm directed from other people to me\n",
        "4. 'reference_to_harm': harm directed from other people to other people\n",
        "\"\"\""
      ],
      "metadata": {
        "id": "tRGI1fGMC8xF"
      },
      "execution_count": 13,
      "outputs": []
    },
    {
      "cell_type": "code",
      "source": [
        "action = \"\"\"Label the following texts. Return 'id', 'self_harm', 'harming_others', 'harmed_by_others', and 'reference_to_harm'. 'id' is the same as input.\n",
        "\"\"\""
      ],
      "metadata": {
        "id": "9VnanPuiDF5D"
      },
      "execution_count": 14,
      "outputs": []
    },
    {
      "cell_type": "code",
      "source": [
        "labels = ['self_harm', 'harming_others', 'harmed_by_others','reference_to_harm']"
      ],
      "metadata": {
        "id": "G6DtczG-qBkR"
      },
      "execution_count": 15,
      "outputs": []
    },
    {
      "cell_type": "code",
      "source": [
        "few_shot_df = pd.read_csv(PATHS.few_shot, sep='\\t', dtype={'id': 'string'})\n",
        "train_df = pd.read_csv(PATHS.train, sep='\\t', dtype={'id': 'string'})\n",
        "valid_df = pd.read_csv(PATHS.valid, sep='\\t', dtype={'id': 'string'})\n",
        "all_train_df = pd.concat([few_shot_df, train_df])"
      ],
      "metadata": {
        "id": "Iy3_Cbb25a5G"
      },
      "execution_count": 16,
      "outputs": []
    },
    {
      "cell_type": "markdown",
      "source": [
        "# Fine-Tune"
      ],
      "metadata": {
        "id": "1YW23mp17ZcT"
      }
    },
    {
      "cell_type": "code",
      "source": [
        "def make_fine_tune_jsonl(df, output):\n",
        "    with open(output, 'w') as f:\n",
        "        for i in range(len(df)):\n",
        "            s = df.iloc[i]\n",
        "            result = {\"id\": s['id']}\n",
        "            for label in labels:\n",
        "                result[label] = int(s[label])\n",
        "            obj = {\n",
        "                'messages': [\n",
        "                    {\n",
        "                        \"role\": \"system\",\n",
        "                        \"content\": instruction\n",
        "                    },\n",
        "                    {\n",
        "                        \"role\": \"user\",\n",
        "                        \"content\": ''.join([action, s['id'], '\\t', s['text']])\n",
        "                    },\n",
        "                    {\n",
        "                        \"role\": \"assistant\",\n",
        "                        \"content\": str(result)\n",
        "                    }\n",
        "                ]\n",
        "            }\n",
        "            f.write(json.dumps(obj) + '\\n')"
      ],
      "metadata": {
        "id": "MKXrjXf8ZRBz"
      },
      "execution_count": null,
      "outputs": []
    },
    {
      "cell_type": "code",
      "source": [
        "make_fine_tune_jsonl(all_train_df, f'{PATHS.save}/fine_tune_all_train.jsonl')\n",
        "make_fine_tune_jsonl(valid_df, f'{PATHS.save}/fine_tune_valid.jsonl')"
      ],
      "metadata": {
        "id": "Gc0i0QUKeIQZ"
      },
      "execution_count": null,
      "outputs": []
    },
    {
      "cell_type": "markdown",
      "source": [
        "Upload train and validation"
      ],
      "metadata": {
        "id": "yIvz8q1avp6t"
      }
    },
    {
      "cell_type": "code",
      "source": [
        "train_file = client.files.create(\n",
        "  file=open(f'{PATHS.save}/fine_tune_all_train.jsonl', \"rb\"),\n",
        "  purpose=\"fine-tune\"\n",
        ")\n",
        "validation_file = client.files.create(\n",
        "  file=open(f'{PATHS.save}/fine_tune_valid.jsonl', \"rb\"),\n",
        "  purpose=\"fine-tune\"\n",
        ")"
      ],
      "metadata": {
        "id": "MyBWZyj3Zq_h"
      },
      "execution_count": null,
      "outputs": []
    },
    {
      "cell_type": "code",
      "source": [
        "fine_tuning_job = client.fine_tuning.jobs.create(\n",
        "    training_file=train_file.id,\n",
        "    validation_file=validation_file.id,\n",
        "    model=CONFIG.model,\n",
        "    hyperparameters={\n",
        "        \"n_epochs\": CONFIG.epoch,\n",
        "        \"batch_size\": CONFIG.batch_size,\n",
        "        \"learning_rate_multiplier\": CONFIG.learning_rate_multiplier\n",
        "    }\n",
        ")"
      ],
      "metadata": {
        "id": "3atQLaPrwmR_"
      },
      "execution_count": null,
      "outputs": []
    },
    {
      "cell_type": "code",
      "source": [
        "fine_tuning_job = client.fine_tuning.jobs.retrieve(fine_tuning_job.id)\n",
        "print(fine_tuning_job)"
      ],
      "metadata": {
        "id": "SWTv_7hLwYBr"
      },
      "execution_count": null,
      "outputs": []
    },
    {
      "cell_type": "code",
      "source": [
        "fine_tuned_model = fine_tuning_job.fine_tuned_model\n",
        "print(fine_tuned_model)"
      ],
      "metadata": {
        "id": "coA9Zx-K8yRn"
      },
      "execution_count": null,
      "outputs": []
    },
    {
      "cell_type": "markdown",
      "source": [
        "# Make Inference"
      ],
      "metadata": {
        "id": "UV0yi8cl6Tjt"
      }
    },
    {
      "cell_type": "code",
      "source": [
        "def split_text(filename):\n",
        "    split = []\n",
        "    df = pd.read_csv(filename, sep='\\t').drop(labels, axis=1)\n",
        "    for i in range(0, len(df), CONFIG.lines_per_task):\n",
        "        text = df.iloc[i: i+CONFIG.lines_per_task].to_csv(sep='\\t', index=False, header=False)\n",
        "        split.append((i//CONFIG.lines_per_task, text))\n",
        "    return split"
      ],
      "metadata": {
        "id": "OT-mSQV7Cm91"
      },
      "execution_count": 8,
      "outputs": []
    },
    {
      "cell_type": "code",
      "source": [
        "def get_task(index, text, model):\n",
        "    task = {\n",
        "        \"custom_id\": f\"task_{index}\",\n",
        "        \"method\": \"POST\",\n",
        "        \"url\": \"/v1/chat/completions\",\n",
        "        \"body\": {\n",
        "            \"model\": model,\n",
        "            \"temperature\": 0,\n",
        "            \"max_tokens\": 256,\n",
        "            \"response_format\": response_format,\n",
        "            \"messages\": [\n",
        "                {\n",
        "                    \"role\": \"system\",\n",
        "                    \"content\": instruction,\n",
        "                },\n",
        "                {\n",
        "                    \"role\": \"user\",\n",
        "                    \"content\": ''.join([action, text]),\n",
        "                },\n",
        "            ],\n",
        "        },\n",
        "    }\n",
        "    return task"
      ],
      "metadata": {
        "id": "eTiszYCI5i-v"
      },
      "execution_count": 9,
      "outputs": []
    },
    {
      "cell_type": "code",
      "source": [
        "def make_inference_jsonl(input, output, model):\n",
        "    split = split_text(input)\n",
        "    # write jsonl\n",
        "    with open(output, 'w') as f:\n",
        "        for index, text in split:\n",
        "            task = get_task(index, text, model)\n",
        "            f.write(json.dumps(task) + '\\n')"
      ],
      "metadata": {
        "id": "dYhXPq0-Vig_"
      },
      "execution_count": 10,
      "outputs": []
    },
    {
      "cell_type": "code",
      "source": [
        "def submit_batch(jsonl_file):\n",
        "    # upload jsonl\n",
        "    batch_file = client.files.create(\n",
        "        file=open(jsonl_file, 'rb'),\n",
        "        purpose=\"batch\",\n",
        "    )\n",
        "    # submit batch job\n",
        "    batch_job = client.batches.create(\n",
        "        input_file_id=batch_file.id,\n",
        "        endpoint=\"/v1/chat/completions\",\n",
        "        completion_window=\"24h\",\n",
        "    )\n",
        "    return batch_job"
      ],
      "metadata": {
        "id": "_9ucyXQ5-wTI"
      },
      "execution_count": 11,
      "outputs": []
    },
    {
      "cell_type": "code",
      "source": [
        "inference_jsonl = f'{PATHS.save}/inference.jsonl'\n",
        "make_inference_jsonl(PATHS.valid, inference_jsonl, fine_tuned_model)"
      ],
      "metadata": {
        "id": "kl6a7JaUcfKa"
      },
      "execution_count": 19,
      "outputs": []
    },
    {
      "cell_type": "code",
      "source": [
        "batch_job = submit_batch(inference_jsonl)"
      ],
      "metadata": {
        "id": "uHjZMMQojGzd"
      },
      "execution_count": 20,
      "outputs": []
    },
    {
      "cell_type": "code",
      "source": [
        "batch_job = client.batches.retrieve(batch_job.id)\n",
        "print(batch_job)"
      ],
      "metadata": {
        "id": "S5pB4otQjaSs"
      },
      "execution_count": null,
      "outputs": []
    },
    {
      "cell_type": "code",
      "source": [
        "result_file_id = batch_job.output_file_id\n",
        "result = client.files.content(result_file_id).content\n",
        "valid_predicted_jsonl = f'{PATHS.save}/valid_predicted.jsonl'\n",
        "with open(valid_predicted_jsonl, 'wb') as f:\n",
        "    f.write(result)"
      ],
      "metadata": {
        "id": "avaA490dlLvf"
      },
      "execution_count": 25,
      "outputs": []
    },
    {
      "cell_type": "markdown",
      "source": [
        "# Process Inference Result"
      ],
      "metadata": {
        "id": "DpXTHtyYM6mf"
      }
    },
    {
      "cell_type": "code",
      "source": [
        "def get_df(jsonl):\n",
        "    with open(jsonl) as f:\n",
        "        json_lines = f.readlines()\n",
        "        json_objs = [json.loads(line) for line in json_lines]\n",
        "    df = pd.DataFrame(columns=(['id']+labels))\n",
        "    for i, json_obj in enumerate(json_objs):\n",
        "        json_content = json.loads(json_obj['response']['body']['choices'][0]['message']['content'])\n",
        "        s = pd.Series(data=json_content)\n",
        "        df.loc[i] = s\n",
        "    for label in labels:\n",
        "        df[label] = df[label].astype('int')\n",
        "    return df"
      ],
      "metadata": {
        "id": "ZxjnSvTvMsgh"
      },
      "execution_count": 26,
      "outputs": []
    },
    {
      "cell_type": "code",
      "source": [
        "def compare_labels(true_df, predicted_df):\n",
        "    merged = pd.merge(true_df, predicted_df, how='inner', on='id', suffixes=('_true', '_predicted'))\n",
        "    plt.rcParams.update({'font.size': 8})\n",
        "    for label in labels:\n",
        "        true = merged[f'{label}_true']\n",
        "        predicted = merged[f'{label}_predicted']\n",
        "        print(f'label: {label}')\n",
        "        # print classification report\n",
        "        print(classification_report(true, predicted))\n",
        "        # display confusion matrix\n",
        "        cm = confusion_matrix(true, predicted)\n",
        "        cmdisplay = ConfusionMatrixDisplay(cm)\n",
        "        cmdisplay.plot()\n",
        "        plt.show()\n",
        "        print('\\n')\n",
        "    mask = ( (merged['self_harm_true'] != merged['self_harm_predicted']) | (merged['harming_others_true'] != merged['harming_others_predicted']) |\n",
        "             (merged['harmed_by_others_true'] != merged['harmed_by_others_predicted']) | (merged['reference_to_harm_true'] != merged['reference_to_harm_predicted']) )\n",
        "    diff = merged[mask]\n",
        "    return diff"
      ],
      "metadata": {
        "id": "h1a4wEhoVD7u"
      },
      "execution_count": 34,
      "outputs": []
    },
    {
      "cell_type": "code",
      "source": [
        "valid_predicted_df = get_df(valid_predicted_jsonl)"
      ],
      "metadata": {
        "id": "sLFPqTVoUUoL"
      },
      "execution_count": 32,
      "outputs": []
    },
    {
      "cell_type": "code",
      "source": [
        "diff = compare_labels(valid_df, valid_predicted_df)"
      ],
      "metadata": {
        "colab": {
          "base_uri": "https://localhost:8080/",
          "height": 1000
        },
        "id": "TbgRg95fabSf",
        "outputId": "acaed31d-d116-4b4c-c490-72378840eb88"
      },
      "execution_count": 35,
      "outputs": [
        {
          "output_type": "stream",
          "name": "stdout",
          "text": [
            "label: self_harm\n",
            "              precision    recall  f1-score   support\n",
            "\n",
            "           0       1.00      0.96      0.98        79\n",
            "           1       0.86      1.00      0.93        19\n",
            "\n",
            "    accuracy                           0.97        98\n",
            "   macro avg       0.93      0.98      0.95        98\n",
            "weighted avg       0.97      0.97      0.97        98\n",
            "\n"
          ]
        },
        {
          "output_type": "display_data",
          "data": {
            "text/plain": [
              "<Figure size 640x480 with 2 Axes>"
            ],
            "image/png": "[encoded data removed]"
          },
          "metadata": {}
        },
        {
          "output_type": "stream",
          "name": "stdout",
          "text": [
            "\n",
            "\n",
            "label: harming_others\n",
            "              precision    recall  f1-score   support\n",
            "\n",
            "           0       0.99      0.93      0.95        80\n",
            "           1       0.74      0.94      0.83        18\n",
            "\n",
            "    accuracy                           0.93        98\n",
            "   macro avg       0.86      0.93      0.89        98\n",
            "weighted avg       0.94      0.93      0.93        98\n",
            "\n"
          ]
        },
        {
          "output_type": "display_data",
          "data": {
            "text/plain": [
              "<Figure size 640x480 with 2 Axes>"
            ],
            "image/png": "[encoded data removed]"
          },
          "metadata": {}
        },
        {
          "output_type": "stream",
          "name": "stdout",
          "text": [
            "\n",
            "\n",
            "label: harmed_by_others\n",
            "              precision    recall  f1-score   support\n",
            "\n",
            "           0       0.97      0.97      0.97        77\n",
            "           1       0.90      0.90      0.90        21\n",
            "\n",
            "    accuracy                           0.96        98\n",
            "   macro avg       0.94      0.94      0.94        98\n",
            "weighted avg       0.96      0.96      0.96        98\n",
            "\n"
          ]
        },
        {
          "output_type": "display_data",
          "data": {
            "text/plain": [
              "<Figure size 640x480 with 2 Axes>"
            ],
            "image/png": "[encoded data removed]"
          },
          "metadata": {}
        },
        {
          "output_type": "stream",
          "name": "stdout",
          "text": [
            "\n",
            "\n",
            "label: reference_to_harm\n",
            "              precision    recall  f1-score   support\n",
            "\n",
            "           0       0.99      1.00      0.99        91\n",
            "           1       1.00      0.86      0.92         7\n",
            "\n",
            "    accuracy                           0.99        98\n",
            "   macro avg       0.99      0.93      0.96        98\n",
            "weighted avg       0.99      0.99      0.99        98\n",
            "\n"
          ]
        },
        {
          "output_type": "display_data",
          "data": {
            "text/plain": [
              "<Figure size 640x480 with 2 Axes>"
            ],
            "image/png": "[encoded data removed]"
          },
          "metadata": {}
        },
        {
          "output_type": "stream",
          "name": "stdout",
          "text": [
            "\n",
            "\n"
          ]
        }
      ]
    }
  ]
}