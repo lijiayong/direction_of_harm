{
  "nbformat": 4,
  "nbformat_minor": 0,
  "metadata": {
    "colab": {
      "provenance": [],
      "authorship_tag": "ABX9TyOswvKQl32Uozz2oCC5Ejyb"
    },
    "kernelspec": {
      "name": "python3",
      "display_name": "Python 3"
    },
    "language_info": {
      "name": "python"
    },
    "widgets": {
      "application/vnd.jupyter.widget-state+json": {
        "280bd1a03cb6460294af18b84b6139d6": {
          "model_module": "@jupyter-widgets/controls",
          "model_name": "HBoxModel",
          "model_module_version": "1.5.0",
          "state": {
            "_dom_classes": [],
            "_model_module": "@jupyter-widgets/controls",
            "_model_module_version": "1.5.0",
            "_model_name": "HBoxModel",
            "_view_count": null,
            "_view_module": "@jupyter-widgets/controls",
            "_view_module_version": "1.5.0",
            "_view_name": "HBoxView",
            "box_style": "",
            "children": [
              "IPY_MODEL_04cb67a349b943a090cfbd13e55da00a",
              "IPY_MODEL_d386a69327704cb78e2fc8c134973800",
              "IPY_MODEL_3a0a7b8517044fa89e90e088c1146f38"
            ],
            "layout": "IPY_MODEL_997694def7024575881db6438d51d64d"
          }
        },
        "04cb67a349b943a090cfbd13e55da00a": {
          "model_module": "@jupyter-widgets/controls",
          "model_name": "HTMLModel",
          "model_module_version": "1.5.0",
          "state": {
            "_dom_classes": [],
            "_model_module": "@jupyter-widgets/controls",
            "_model_module_version": "1.5.0",
            "_model_name": "HTMLModel",
            "_view_count": null,
            "_view_module": "@jupyter-widgets/controls",
            "_view_module_version": "1.5.0",
            "_view_name": "HTMLView",
            "description": "",
            "description_tooltip": null,
            "layout": "IPY_MODEL_c28eae79a1ae4ac58edc8eddad6d72d2",
            "placeholder": "​",
            "style": "IPY_MODEL_94bcd8d075b043b1af53c5c4f7ec5d1d",
            "value": "Map: 100%"
          }
        },
        "d386a69327704cb78e2fc8c134973800": {
          "model_module": "@jupyter-widgets/controls",
          "model_name": "FloatProgressModel",
          "model_module_version": "1.5.0",
          "state": {
            "_dom_classes": [],
            "_model_module": "@jupyter-widgets/controls",
            "_model_module_version": "1.5.0",
            "_model_name": "FloatProgressModel",
            "_view_count": null,
            "_view_module": "@jupyter-widgets/controls",
            "_view_module_version": "1.5.0",
            "_view_name": "ProgressView",
            "bar_style": "success",
            "description": "",
            "description_tooltip": null,
            "layout": "IPY_MODEL_6d037b10fa114919abd3d169b5667b7e",
            "max": 35275,
            "min": 0,
            "orientation": "horizontal",
            "style": "IPY_MODEL_fc6c3c7185a94096a273437224bf1986",
            "value": 35275
          }
        },
        "3a0a7b8517044fa89e90e088c1146f38": {
          "model_module": "@jupyter-widgets/controls",
          "model_name": "HTMLModel",
          "model_module_version": "1.5.0",
          "state": {
            "_dom_classes": [],
            "_model_module": "@jupyter-widgets/controls",
            "_model_module_version": "1.5.0",
            "_model_name": "HTMLModel",
            "_view_count": null,
            "_view_module": "@jupyter-widgets/controls",
            "_view_module_version": "1.5.0",
            "_view_name": "HTMLView",
            "description": "",
            "description_tooltip": null,
            "layout": "IPY_MODEL_b311d63e636c42679d527f1a83c810a1",
            "placeholder": "​",
            "style": "IPY_MODEL_7de5ada25aec49638495f1adbf43d889",
            "value": " 35275/35275 [00:17&lt;00:00, 2782.38 examples/s]"
          }
        },
        "997694def7024575881db6438d51d64d": {
          "model_module": "@jupyter-widgets/base",
          "model_name": "LayoutModel",
          "model_module_version": "1.2.0",
          "state": {
            "_model_module": "@jupyter-widgets/base",
            "_model_module_version": "1.2.0",
            "_model_name": "LayoutModel",
            "_view_count": null,
            "_view_module": "@jupyter-widgets/base",
            "_view_module_version": "1.2.0",
            "_view_name": "LayoutView",
            "align_content": null,
            "align_items": null,
            "align_self": null,
            "border": null,
            "bottom": null,
            "display": null,
            "flex": null,
            "flex_flow": null,
            "grid_area": null,
            "grid_auto_columns": null,
            "grid_auto_flow": null,
            "grid_auto_rows": null,
            "grid_column": null,
            "grid_gap": null,
            "grid_row": null,
            "grid_template_areas": null,
            "grid_template_columns": null,
            "grid_template_rows": null,
            "height": null,
            "justify_content": null,
            "justify_items": null,
            "left": null,
            "margin": null,
            "max_height": null,
            "max_width": null,
            "min_height": null,
            "min_width": null,
            "object_fit": null,
            "object_position": null,
            "order": null,
            "overflow": null,
            "overflow_x": null,
            "overflow_y": null,
            "padding": null,
            "right": null,
            "top": null,
            "visibility": null,
            "width": null
          }
        },
        "c28eae79a1ae4ac58edc8eddad6d72d2": {
          "model_module": "@jupyter-widgets/base",
          "model_name": "LayoutModel",
          "model_module_version": "1.2.0",
          "state": {
            "_model_module": "@jupyter-widgets/base",
            "_model_module_version": "1.2.0",
            "_model_name": "LayoutModel",
            "_view_count": null,
            "_view_module": "@jupyter-widgets/base",
            "_view_module_version": "1.2.0",
            "_view_name": "LayoutView",
            "align_content": null,
            "align_items": null,
            "align_self": null,
            "border": null,
            "bottom": null,
            "display": null,
            "flex": null,
            "flex_flow": null,
            "grid_area": null,
            "grid_auto_columns": null,
            "grid_auto_flow": null,
            "grid_auto_rows": null,
            "grid_column": null,
            "grid_gap": null,
            "grid_row": null,
            "grid_template_areas": null,
            "grid_template_columns": null,
            "grid_template_rows": null,
            "height": null,
            "justify_content": null,
            "justify_items": null,
            "left": null,
            "margin": null,
            "max_height": null,
            "max_width": null,
            "min_height": null,
            "min_width": null,
            "object_fit": null,
            "object_position": null,
            "order": null,
            "overflow": null,
            "overflow_x": null,
            "overflow_y": null,
            "padding": null,
            "right": null,
            "top": null,
            "visibility": null,
            "width": null
          }
        },
        "94bcd8d075b043b1af53c5c4f7ec5d1d": {
          "model_module": "@jupyter-widgets/controls",
          "model_name": "DescriptionStyleModel",
          "model_module_version": "1.5.0",
          "state": {
            "_model_module": "@jupyter-widgets/controls",
            "_model_module_version": "1.5.0",
            "_model_name": "DescriptionStyleModel",
            "_view_count": null,
            "_view_module": "@jupyter-widgets/base",
            "_view_module_version": "1.2.0",
            "_view_name": "StyleView",
            "description_width": ""
          }
        },
        "6d037b10fa114919abd3d169b5667b7e": {
          "model_module": "@jupyter-widgets/base",
          "model_name": "LayoutModel",
          "model_module_version": "1.2.0",
          "state": {
            "_model_module": "@jupyter-widgets/base",
            "_model_module_version": "1.2.0",
            "_model_name": "LayoutModel",
            "_view_count": null,
            "_view_module": "@jupyter-widgets/base",
            "_view_module_version": "1.2.0",
            "_view_name": "LayoutView",
            "align_content": null,
            "align_items": null,
            "align_self": null,
            "border": null,
            "bottom": null,
            "display": null,
            "flex": null,
            "flex_flow": null,
            "grid_area": null,
            "grid_auto_columns": null,
            "grid_auto_flow": null,
            "grid_auto_rows": null,
            "grid_column": null,
            "grid_gap": null,
            "grid_row": null,
            "grid_template_areas": null,
            "grid_template_columns": null,
            "grid_template_rows": null,
            "height": null,
            "justify_content": null,
            "justify_items": null,
            "left": null,
            "margin": null,
            "max_height": null,
            "max_width": null,
            "min_height": null,
            "min_width": null,
            "object_fit": null,
            "object_position": null,
            "order": null,
            "overflow": null,
            "overflow_x": null,
            "overflow_y": null,
            "padding": null,
            "right": null,
            "top": null,
            "visibility": null,
            "width": null
          }
        },
        "fc6c3c7185a94096a273437224bf1986": {
          "model_module": "@jupyter-widgets/controls",
          "model_name": "ProgressStyleModel",
          "model_module_version": "1.5.0",
          "state": {
            "_model_module": "@jupyter-widgets/controls",
            "_model_module_version": "1.5.0",
            "_model_name": "ProgressStyleModel",
            "_view_count": null,
            "_view_module": "@jupyter-widgets/base",
            "_view_module_version": "1.2.0",
            "_view_name": "StyleView",
            "bar_color": null,
            "description_width": ""
          }
        },
        "b311d63e636c42679d527f1a83c810a1": {
          "model_module": "@jupyter-widgets/base",
          "model_name": "LayoutModel",
          "model_module_version": "1.2.0",
          "state": {
            "_model_module": "@jupyter-widgets/base",
            "_model_module_version": "1.2.0",
            "_model_name": "LayoutModel",
            "_view_count": null,
            "_view_module": "@jupyter-widgets/base",
            "_view_module_version": "1.2.0",
            "_view_name": "LayoutView",
            "align_content": null,
            "align_items": null,
            "align_self": null,
            "border": null,
            "bottom": null,
            "display": null,
            "flex": null,
            "flex_flow": null,
            "grid_area": null,
            "grid_auto_columns": null,
            "grid_auto_flow": null,
            "grid_auto_rows": null,
            "grid_column": null,
            "grid_gap": null,
            "grid_row": null,
            "grid_template_areas": null,
            "grid_template_columns": null,
            "grid_template_rows": null,
            "height": null,
            "justify_content": null,
            "justify_items": null,
            "left": null,
            "margin": null,
            "max_height": null,
            "max_width": null,
            "min_height": null,
            "min_width": null,
            "object_fit": null,
            "object_position": null,
            "order": null,
            "overflow": null,
            "overflow_x": null,
            "overflow_y": null,
            "padding": null,
            "right": null,
            "top": null,
            "visibility": null,
            "width": null
          }
        },
        "7de5ada25aec49638495f1adbf43d889": {
          "model_module": "@jupyter-widgets/controls",
          "model_name": "DescriptionStyleModel",
          "model_module_version": "1.5.0",
          "state": {
            "_model_module": "@jupyter-widgets/controls",
            "_model_module_version": "1.5.0",
            "_model_name": "DescriptionStyleModel",
            "_view_count": null,
            "_view_module": "@jupyter-widgets/base",
            "_view_module_version": "1.2.0",
            "_view_name": "StyleView",
            "description_width": ""
          }
        },
        "63bbd2367fe84975a2321df85a8a2570": {
          "model_module": "@jupyter-widgets/controls",
          "model_name": "HBoxModel",
          "model_module_version": "1.5.0",
          "state": {
            "_dom_classes": [],
            "_model_module": "@jupyter-widgets/controls",
            "_model_module_version": "1.5.0",
            "_model_name": "HBoxModel",
            "_view_count": null,
            "_view_module": "@jupyter-widgets/controls",
            "_view_module_version": "1.5.0",
            "_view_name": "HBoxView",
            "box_style": "",
            "children": [
              "IPY_MODEL_0dd4b6c3220e4e61a2115779e37de75b",
              "IPY_MODEL_86e78238cdad49ffb36fd17bfed291f0",
              "IPY_MODEL_cc38372dd02f453e9131a9be2276117e"
            ],
            "layout": "IPY_MODEL_7376985aa9df46afa0bf388f7198abea"
          }
        },
        "0dd4b6c3220e4e61a2115779e37de75b": {
          "model_module": "@jupyter-widgets/controls",
          "model_name": "HTMLModel",
          "model_module_version": "1.5.0",
          "state": {
            "_dom_classes": [],
            "_model_module": "@jupyter-widgets/controls",
            "_model_module_version": "1.5.0",
            "_model_name": "HTMLModel",
            "_view_count": null,
            "_view_module": "@jupyter-widgets/controls",
            "_view_module_version": "1.5.0",
            "_view_name": "HTMLView",
            "description": "",
            "description_tooltip": null,
            "layout": "IPY_MODEL_c10b245771534e9986f2a2de7202d8c6",
            "placeholder": "​",
            "style": "IPY_MODEL_601a3db1af01457da254be5ef3a44c0b",
            "value": "Map: 100%"
          }
        },
        "86e78238cdad49ffb36fd17bfed291f0": {
          "model_module": "@jupyter-widgets/controls",
          "model_name": "FloatProgressModel",
          "model_module_version": "1.5.0",
          "state": {
            "_dom_classes": [],
            "_model_module": "@jupyter-widgets/controls",
            "_model_module_version": "1.5.0",
            "_model_name": "FloatProgressModel",
            "_view_count": null,
            "_view_module": "@jupyter-widgets/controls",
            "_view_module_version": "1.5.0",
            "_view_name": "ProgressView",
            "bar_style": "success",
            "description": "",
            "description_tooltip": null,
            "layout": "IPY_MODEL_961771e8a41d41fcb2d073732c2a75bb",
            "max": 144210,
            "min": 0,
            "orientation": "horizontal",
            "style": "IPY_MODEL_e9b4e1fc915240d48697eedd6b7db277",
            "value": 144210
          }
        },
        "cc38372dd02f453e9131a9be2276117e": {
          "model_module": "@jupyter-widgets/controls",
          "model_name": "HTMLModel",
          "model_module_version": "1.5.0",
          "state": {
            "_dom_classes": [],
            "_model_module": "@jupyter-widgets/controls",
            "_model_module_version": "1.5.0",
            "_model_name": "HTMLModel",
            "_view_count": null,
            "_view_module": "@jupyter-widgets/controls",
            "_view_module_version": "1.5.0",
            "_view_name": "HTMLView",
            "description": "",
            "description_tooltip": null,
            "layout": "IPY_MODEL_7a4a1a4c9830405ebccae55d57d92149",
            "placeholder": "​",
            "style": "IPY_MODEL_7c9136d3a8be433ea83ce2bce76a888b",
            "value": " 144210/144210 [01:14&lt;00:00, 1974.11 examples/s]"
          }
        },
        "7376985aa9df46afa0bf388f7198abea": {
          "model_module": "@jupyter-widgets/base",
          "model_name": "LayoutModel",
          "model_module_version": "1.2.0",
          "state": {
            "_model_module": "@jupyter-widgets/base",
            "_model_module_version": "1.2.0",
            "_model_name": "LayoutModel",
            "_view_count": null,
            "_view_module": "@jupyter-widgets/base",
            "_view_module_version": "1.2.0",
            "_view_name": "LayoutView",
            "align_content": null,
            "align_items": null,
            "align_self": null,
            "border": null,
            "bottom": null,
            "display": null,
            "flex": null,
            "flex_flow": null,
            "grid_area": null,
            "grid_auto_columns": null,
            "grid_auto_flow": null,
            "grid_auto_rows": null,
            "grid_column": null,
            "grid_gap": null,
            "grid_row": null,
            "grid_template_areas": null,
            "grid_template_columns": null,
            "grid_template_rows": null,
            "height": null,
            "justify_content": null,
            "justify_items": null,
            "left": null,
            "margin": null,
            "max_height": null,
            "max_width": null,
            "min_height": null,
            "min_width": null,
            "object_fit": null,
            "object_position": null,
            "order": null,
            "overflow": null,
            "overflow_x": null,
            "overflow_y": null,
            "padding": null,
            "right": null,
            "top": null,
            "visibility": null,
            "width": null
          }
        },
        "c10b245771534e9986f2a2de7202d8c6": {
          "model_module": "@jupyter-widgets/base",
          "model_name": "LayoutModel",
          "model_module_version": "1.2.0",
          "state": {
            "_model_module": "@jupyter-widgets/base",
            "_model_module_version": "1.2.0",
            "_model_name": "LayoutModel",
            "_view_count": null,
            "_view_module": "@jupyter-widgets/base",
            "_view_module_version": "1.2.0",
            "_view_name": "LayoutView",
            "align_content": null,
            "align_items": null,
            "align_self": null,
            "border": null,
            "bottom": null,
            "display": null,
            "flex": null,
            "flex_flow": null,
            "grid_area": null,
            "grid_auto_columns": null,
            "grid_auto_flow": null,
            "grid_auto_rows": null,
            "grid_column": null,
            "grid_gap": null,
            "grid_row": null,
            "grid_template_areas": null,
            "grid_template_columns": null,
            "grid_template_rows": null,
            "height": null,
            "justify_content": null,
            "justify_items": null,
            "left": null,
            "margin": null,
            "max_height": null,
            "max_width": null,
            "min_height": null,
            "min_width": null,
            "object_fit": null,
            "object_position": null,
            "order": null,
            "overflow": null,
            "overflow_x": null,
            "overflow_y": null,
            "padding": null,
            "right": null,
            "top": null,
            "visibility": null,
            "width": null
          }
        },
        "601a3db1af01457da254be5ef3a44c0b": {
          "model_module": "@jupyter-widgets/controls",
          "model_name": "DescriptionStyleModel",
          "model_module_version": "1.5.0",
          "state": {
            "_model_module": "@jupyter-widgets/controls",
            "_model_module_version": "1.5.0",
            "_model_name": "DescriptionStyleModel",
            "_view_count": null,
            "_view_module": "@jupyter-widgets/base",
            "_view_module_version": "1.2.0",
            "_view_name": "StyleView",
            "description_width": ""
          }
        },
        "961771e8a41d41fcb2d073732c2a75bb": {
          "model_module": "@jupyter-widgets/base",
          "model_name": "LayoutModel",
          "model_module_version": "1.2.0",
          "state": {
            "_model_module": "@jupyter-widgets/base",
            "_model_module_version": "1.2.0",
            "_model_name": "LayoutModel",
            "_view_count": null,
            "_view_module": "@jupyter-widgets/base",
            "_view_module_version": "1.2.0",
            "_view_name": "LayoutView",
            "align_content": null,
            "align_items": null,
            "align_self": null,
            "border": null,
            "bottom": null,
            "display": null,
            "flex": null,
            "flex_flow": null,
            "grid_area": null,
            "grid_auto_columns": null,
            "grid_auto_flow": null,
            "grid_auto_rows": null,
            "grid_column": null,
            "grid_gap": null,
            "grid_row": null,
            "grid_template_areas": null,
            "grid_template_columns": null,
            "grid_template_rows": null,
            "height": null,
            "justify_content": null,
            "justify_items": null,
            "left": null,
            "margin": null,
            "max_height": null,
            "max_width": null,
            "min_height": null,
            "min_width": null,
            "object_fit": null,
            "object_position": null,
            "order": null,
            "overflow": null,
            "overflow_x": null,
            "overflow_y": null,
            "padding": null,
            "right": null,
            "top": null,
            "visibility": null,
            "width": null
          }
        },
        "e9b4e1fc915240d48697eedd6b7db277": {
          "model_module": "@jupyter-widgets/controls",
          "model_name": "ProgressStyleModel",
          "model_module_version": "1.5.0",
          "state": {
            "_model_module": "@jupyter-widgets/controls",
            "_model_module_version": "1.5.0",
            "_model_name": "ProgressStyleModel",
            "_view_count": null,
            "_view_module": "@jupyter-widgets/base",
            "_view_module_version": "1.2.0",
            "_view_name": "StyleView",
            "bar_color": null,
            "description_width": ""
          }
        },
        "7a4a1a4c9830405ebccae55d57d92149": {
          "model_module": "@jupyter-widgets/base",
          "model_name": "LayoutModel",
          "model_module_version": "1.2.0",
          "state": {
            "_model_module": "@jupyter-widgets/base",
            "_model_module_version": "1.2.0",
            "_model_name": "LayoutModel",
            "_view_count": null,
            "_view_module": "@jupyter-widgets/base",
            "_view_module_version": "1.2.0",
            "_view_name": "LayoutView",
            "align_content": null,
            "align_items": null,
            "align_self": null,
            "border": null,
            "bottom": null,
            "display": null,
            "flex": null,
            "flex_flow": null,
            "grid_area": null,
            "grid_auto_columns": null,
            "grid_auto_flow": null,
            "grid_auto_rows": null,
            "grid_column": null,
            "grid_gap": null,
            "grid_row": null,
            "grid_template_areas": null,
            "grid_template_columns": null,
            "grid_template_rows": null,
            "height": null,
            "justify_content": null,
            "justify_items": null,
            "left": null,
            "margin": null,
            "max_height": null,
            "max_width": null,
            "min_height": null,
            "min_width": null,
            "object_fit": null,
            "object_position": null,
            "order": null,
            "overflow": null,
            "overflow_x": null,
            "overflow_y": null,
            "padding": null,
            "right": null,
            "top": null,
            "visibility": null,
            "width": null
          }
        },
        "7c9136d3a8be433ea83ce2bce76a888b": {
          "model_module": "@jupyter-widgets/controls",
          "model_name": "DescriptionStyleModel",
          "model_module_version": "1.5.0",
          "state": {
            "_model_module": "@jupyter-widgets/controls",
            "_model_module_version": "1.5.0",
            "_model_name": "DescriptionStyleModel",
            "_view_count": null,
            "_view_module": "@jupyter-widgets/base",
            "_view_module_version": "1.2.0",
            "_view_name": "StyleView",
            "description_width": ""
          }
        }
      }
    }
  },
  "cells": [
    {
      "cell_type": "markdown",
      "source": [
        "This notebook is for fine-tuning a DeBERTa-v3-small model. It's reproducible if the PATHS class is set up correctly."
      ],
      "metadata": {
        "id": "-Hcw5NWH_A3d"
      }
    },
    {
      "cell_type": "code",
      "source": [
        "from google.colab import userdata\n",
        "import os\n",
        "\n",
        "os.environ[\"KAGGLE_KEY\"] = userdata.get('KAGGLE_KEY')\n",
        "os.environ[\"KAGGLE_USERNAME\"] = userdata.get('KAGGLE_USERNAME')"
      ],
      "metadata": {
        "id": "gniDqR2vZUkD"
      },
      "execution_count": 6,
      "outputs": []
    },
    {
      "cell_type": "code",
      "source": [
        "from google.colab import drive\n",
        "drive.mount('/content/drive')"
      ],
      "metadata": {
        "id": "fkDI-VW5ALge",
        "colab": {
          "base_uri": "https://localhost:8080/"
        },
        "outputId": "380e346c-6375-449a-d3aa-bed5808a051d"
      },
      "execution_count": 7,
      "outputs": [
        {
          "output_type": "stream",
          "name": "stdout",
          "text": [
            "Drive already mounted at /content/drive; to attempt to forcibly remount, call drive.mount(\"/content/drive\", force_remount=True).\n"
          ]
        }
      ]
    },
    {
      "cell_type": "markdown",
      "source": [
        "# Download Data"
      ],
      "metadata": {
        "id": "vDsg67Hd0lcw"
      }
    },
    {
      "cell_type": "code",
      "execution_count": 8,
      "metadata": {
        "id": "mQbCtd6pY33a",
        "colab": {
          "base_uri": "https://localhost:8080/"
        },
        "outputId": "c248e9a9-670f-47f6-e691-fb2bb79ba7e7"
      },
      "outputs": [
        {
          "output_type": "stream",
          "name": "stdout",
          "text": [
            "Downloading jigsaw-unintended-bias-in-toxicity-classification.zip to /content\n",
            " 98% 709M/723M [00:04<00:00, 162MB/s]\n",
            "100% 723M/723M [00:04<00:00, 162MB/s]\n",
            "Archive:  jigsaw-unintended-bias-in-toxicity-classification.zip\n",
            "replace all_data.csv? [y]es, [n]o, [A]ll, [N]one, [r]ename:   inflating: all_data.csv            \n",
            "replace identity_individual_annotations.csv? [y]es, [n]o, [A]ll, [N]one, [r]ename:   inflating: identity_individual_annotations.csv  \n",
            "replace sample_submission.csv? [y]es, [n]o, [A]ll, [N]one, [r]ename:   inflating: sample_submission.csv   \n",
            "replace test.csv? [y]es, [n]o, [A]ll, [N]one, [r]ename:   inflating: test.csv                \n",
            "replace test_private_expanded.csv? [y]es, [n]o, [A]ll, [N]one, [r]ename:   inflating: test_private_expanded.csv  \n",
            "replace test_public_expanded.csv? [y]es, [n]o, [A]ll, [N]one, [r]ename:   inflating: test_public_expanded.csv  \n",
            "replace toxicity_individual_annotations.csv? [y]es, [n]o, [A]ll, [N]one, [r]ename:   inflating: toxicity_individual_annotations.csv  \n",
            "replace train.csv? [y]es, [n]o, [A]ll, [N]one, [r]ename:   inflating: train.csv               \n"
          ]
        }
      ],
      "source": [
        "!kaggle competitions download -c jigsaw-unintended-bias-in-toxicity-classification\n",
        "!yes | unzip jigsaw-unintended-bias-in-toxicity-classification.zip\n",
        "!rm jigsaw-unintended-bias-in-toxicity-classification.zip"
      ]
    },
    {
      "cell_type": "code",
      "source": [
        "!pip install datasets\n",
        "!pip install scikit-multilearn"
      ],
      "metadata": {
        "id": "5pvZlVtkUe1Y",
        "colab": {
          "base_uri": "https://localhost:8080/"
        },
        "outputId": "4b26052e-69fb-4670-c588-a01a4e62e15a"
      },
      "execution_count": 9,
      "outputs": [
        {
          "output_type": "stream",
          "name": "stdout",
          "text": [
            "Requirement already satisfied: datasets in /usr/local/lib/python3.10/dist-packages (3.0.1)\n",
            "Requirement already satisfied: filelock in /usr/local/lib/python3.10/dist-packages (from datasets) (3.16.1)\n",
            "Requirement already satisfied: numpy>=1.17 in /usr/local/lib/python3.10/dist-packages (from datasets) (1.26.4)\n",
            "Requirement already satisfied: pyarrow>=15.0.0 in /usr/local/lib/python3.10/dist-packages (from datasets) (16.1.0)\n",
            "Requirement already satisfied: dill<0.3.9,>=0.3.0 in /usr/local/lib/python3.10/dist-packages (from datasets) (0.3.8)\n",
            "Requirement already satisfied: pandas in /usr/local/lib/python3.10/dist-packages (from datasets) (2.2.2)\n",
            "Requirement already satisfied: requests>=2.32.2 in /usr/local/lib/python3.10/dist-packages (from datasets) (2.32.3)\n",
            "Requirement already satisfied: tqdm>=4.66.3 in /usr/local/lib/python3.10/dist-packages (from datasets) (4.66.5)\n",
            "Requirement already satisfied: xxhash in /usr/local/lib/python3.10/dist-packages (from datasets) (3.5.0)\n",
            "Requirement already satisfied: multiprocess in /usr/local/lib/python3.10/dist-packages (from datasets) (0.70.16)\n",
            "Requirement already satisfied: fsspec<=2024.6.1,>=2023.1.0 in /usr/local/lib/python3.10/dist-packages (from fsspec[http]<=2024.6.1,>=2023.1.0->datasets) (2024.6.1)\n",
            "Requirement already satisfied: aiohttp in /usr/local/lib/python3.10/dist-packages (from datasets) (3.10.10)\n",
            "Requirement already satisfied: huggingface-hub>=0.22.0 in /usr/local/lib/python3.10/dist-packages (from datasets) (0.24.7)\n",
            "Requirement already satisfied: packaging in /usr/local/lib/python3.10/dist-packages (from datasets) (24.1)\n",
            "Requirement already satisfied: pyyaml>=5.1 in /usr/local/lib/python3.10/dist-packages (from datasets) (6.0.2)\n",
            "Requirement already satisfied: aiohappyeyeballs>=2.3.0 in /usr/local/lib/python3.10/dist-packages (from aiohttp->datasets) (2.4.3)\n",
            "Requirement already satisfied: aiosignal>=1.1.2 in /usr/local/lib/python3.10/dist-packages (from aiohttp->datasets) (1.3.1)\n",
            "Requirement already satisfied: attrs>=17.3.0 in /usr/local/lib/python3.10/dist-packages (from aiohttp->datasets) (24.2.0)\n",
            "Requirement already satisfied: frozenlist>=1.1.1 in /usr/local/lib/python3.10/dist-packages (from aiohttp->datasets) (1.4.1)\n",
            "Requirement already satisfied: multidict<7.0,>=4.5 in /usr/local/lib/python3.10/dist-packages (from aiohttp->datasets) (6.1.0)\n",
            "Requirement already satisfied: yarl<2.0,>=1.12.0 in /usr/local/lib/python3.10/dist-packages (from aiohttp->datasets) (1.14.0)\n",
            "Requirement already satisfied: async-timeout<5.0,>=4.0 in /usr/local/lib/python3.10/dist-packages (from aiohttp->datasets) (4.0.3)\n",
            "Requirement already satisfied: typing-extensions>=3.7.4.3 in /usr/local/lib/python3.10/dist-packages (from huggingface-hub>=0.22.0->datasets) (4.12.2)\n",
            "Requirement already satisfied: charset-normalizer<4,>=2 in /usr/local/lib/python3.10/dist-packages (from requests>=2.32.2->datasets) (3.4.0)\n",
            "Requirement already satisfied: idna<4,>=2.5 in /usr/local/lib/python3.10/dist-packages (from requests>=2.32.2->datasets) (3.10)\n",
            "Requirement already satisfied: urllib3<3,>=1.21.1 in /usr/local/lib/python3.10/dist-packages (from requests>=2.32.2->datasets) (2.2.3)\n",
            "Requirement already satisfied: certifi>=2017.4.17 in /usr/local/lib/python3.10/dist-packages (from requests>=2.32.2->datasets) (2024.8.30)\n",
            "Requirement already satisfied: python-dateutil>=2.8.2 in /usr/local/lib/python3.10/dist-packages (from pandas->datasets) (2.8.2)\n",
            "Requirement already satisfied: pytz>=2020.1 in /usr/local/lib/python3.10/dist-packages (from pandas->datasets) (2024.2)\n",
            "Requirement already satisfied: tzdata>=2022.7 in /usr/local/lib/python3.10/dist-packages (from pandas->datasets) (2024.2)\n",
            "Requirement already satisfied: six>=1.5 in /usr/local/lib/python3.10/dist-packages (from python-dateutil>=2.8.2->pandas->datasets) (1.16.0)\n",
            "Requirement already satisfied: propcache>=0.2.0 in /usr/local/lib/python3.10/dist-packages (from yarl<2.0,>=1.12.0->aiohttp->datasets) (0.2.0)\n",
            "Requirement already satisfied: scikit-multilearn in /usr/local/lib/python3.10/dist-packages (0.2.0)\n"
          ]
        }
      ]
    },
    {
      "cell_type": "markdown",
      "source": [
        "# Set up"
      ],
      "metadata": {
        "id": "pn8BTOFu5KS7"
      }
    },
    {
      "cell_type": "code",
      "source": [
        "import os\n",
        "os.environ['CUDA_VISIBLE_DEVICES']='0,1'\n",
        "import warnings\n",
        "import numpy as np, pandas as pd\n",
        "import random\n",
        "import torch\n",
        "from skmultilearn.model_selection import iterative_train_test_split\n",
        "from transformers import AutoTokenizer, AutoModelForSequenceClassification, AutoConfig\n",
        "from transformers import TrainingArguments, Trainer\n",
        "from transformers import DataCollatorWithPadding\n",
        "from datasets import Dataset\n",
        "import matplotlib.pyplot as plt\n",
        "import seaborn as sns\n",
        "warnings.simplefilter('ignore')"
      ],
      "metadata": {
        "id": "M4ckzVbbbzZm"
      },
      "execution_count": 10,
      "outputs": []
    },
    {
      "cell_type": "code",
      "source": [
        "class PATHS:\n",
        "    save = '/content/drive/MyDrive'\n",
        "    fs = f'{save}/harm_v1/few_shot_labeled.tsv'\n",
        "    sw = f'{save}/harm_v1/sw_labeled.tsv'\n",
        "    ar = f'{save}/harm_v1/ar_labeled.tsv'\n",
        "    arc = f'{save}/harm_v1/arc_labeled.tsv'\n",
        "    toxic = f'{save}/harm_v1/toxic_labeled.tsv'\n",
        "    ab = f'{save}/harm_v1/ab_labeled.tsv'\n",
        "    toxic_train = 'train.csv'\n",
        "    final_train = f'{save}/harm_train.tsv'\n",
        "    final_test = f'{save}/harm_test.tsv'\n",
        "    save_model_prep = f'{save}/harm-deberta-v3-small_prep'"
      ],
      "metadata": {
        "id": "fMu9AWgSykAi"
      },
      "execution_count": 11,
      "outputs": []
    },
    {
      "cell_type": "code",
      "source": [
        "class CFG:\n",
        "    model_name = 'microsoft/deberta-v3-small'\n",
        "    max_length = 512\n",
        "    lr = 1e-5\n",
        "    train_batch_size = 32\n",
        "    train_epochs = 4\n",
        "    weight_decay = 0.01\n",
        "    warmup_ratio = 0.0\n",
        "    labels = ['self_harm', 'harming_others', 'harmed_by_others','reference_to_harm']"
      ],
      "metadata": {
        "id": "YZuqO0xi476P"
      },
      "execution_count": 12,
      "outputs": []
    },
    {
      "cell_type": "code",
      "source": [
        "def seed_everything(seed):\n",
        "    random.seed(seed)\n",
        "    os.environ['PYTHONHASHSEED'] = str(seed)\n",
        "    np.random.seed(seed)\n",
        "    torch.manual_seed(seed)\n",
        "    torch.cuda.manual_seed(seed)\n",
        "    torch.backends.cudnn.deterministic = True\n",
        "    torch.backends.cudnn.benchmark = True\n",
        "seed_everything(42)"
      ],
      "metadata": {
        "id": "6GFZWCs05Qk6"
      },
      "execution_count": 13,
      "outputs": []
    },
    {
      "cell_type": "markdown",
      "source": [
        "# Load Positive Data"
      ],
      "metadata": {
        "id": "15ZLBej05TVP"
      }
    },
    {
      "cell_type": "markdown",
      "source": [
        "The positive data set consists of data sets with positive data for labels 'self_harm', 'harming_others', 'harmed_by_others', or 'reference_to_harm'. They consists of few shot data, suicide watch data, 0.9 toxic data, abusive relationship data, abusive relationship comments data, and all beauty data."
      ],
      "metadata": {
        "id": "PlrgMp73mqpk"
      }
    },
    {
      "cell_type": "code",
      "source": [
        "fs_df = pd.read_csv(PATHS.fs, sep='\\t', dtype={'id': 'string'})\n",
        "sw_df = pd.read_csv(PATHS.sw, sep='\\t', dtype={'id': 'string'})\n",
        "ar_df = pd.read_csv(PATHS.ar, sep='\\t', dtype={'id': 'string'})\n",
        "arc_df = pd.read_csv(PATHS.arc, sep='\\t', dtype={'id': 'string'})\n",
        "toxic_df = pd.read_csv(PATHS.toxic, sep='\\t', dtype={'id': 'string'})\n",
        "ab_df = pd.read_csv(PATHS.ab, sep='\\t', dtype={'id': 'string'})\n",
        "pos_dfs = [fs_df, sw_df, toxic_df, ar_df, arc_df, ab_df]\n",
        "pos_names = ['few shot data', 'suicide watch data',  '0.9 toxic data', 'abusive relationship data', 'abusive relationship comments data', 'all beauty dataset']\n",
        "pos_df = pd.concat(pos_dfs)"
      ],
      "metadata": {
        "id": "MDQZE84fs77w"
      },
      "execution_count": 14,
      "outputs": []
    },
    {
      "cell_type": "code",
      "source": [
        "for df, name in zip(pos_dfs, pos_names):\n",
        "    print(f\"Numer of samples in {name} = {len(df)}\")"
      ],
      "metadata": {
        "colab": {
          "base_uri": "https://localhost:8080/"
        },
        "id": "fbAKx_jh164w",
        "outputId": "3d4d100d-3b2b-4948-f6dc-2bec6e8d1d94"
      },
      "execution_count": 15,
      "outputs": [
        {
          "output_type": "stream",
          "name": "stdout",
          "text": [
            "Numer of samples in few shot data = 64\n",
            "Numer of samples in suicide watch data = 5561\n",
            "Numer of samples in 0.9 toxic data = 9226\n",
            "Numer of samples in abusive relationship data = 9502\n",
            "Numer of samples in abusive relationship comments data = 7495\n",
            "Numer of samples in all beauty dataset = 5371\n"
          ]
        }
      ]
    },
    {
      "cell_type": "code",
      "source": [
        "sns.set(font_scale=0.75)\n",
        "for df, name in zip(pos_dfs, pos_names):\n",
        "    plt.figure(figsize=(6, 3))\n",
        "    plt.ylim(0, 100)\n",
        "    plt.title(f\"Distribution of harm labels in {name}\")\n",
        "    sns.barplot(x=CFG.labels, y=[sum(df[label] == 1)/len(df) * 100 for label in CFG.labels])\n",
        "    plt.ylabel(\"Percentage of harm labels\")"
      ],
      "metadata": {
        "colab": {
          "base_uri": "https://localhost:8080/",
          "height": 1000
        },
        "id": "W2uDo72av8dt",
        "outputId": "227d1c02-2c7c-4b55-92f6-a7708997053b"
      },
      "execution_count": 16,
      "outputs": [
        {
          "output_type": "display_data",
          "data": {
            "text/plain": [
              "<Figure size 600x300 with 1 Axes>"
            ],
            "image/png": "[encoded data removed]"
          },
          "metadata": {}
        },
        {
          "output_type": "display_data",
          "data": {
            "text/plain": [
              "<Figure size 600x300 with 1 Axes>"
            ],
            "image/png": "[encoded data removed]"
          },
          "metadata": {}
        },
        {
          "output_type": "display_data",
          "data": {
            "text/plain": [
              "<Figure size 600x300 with 1 Axes>"
            ],
            "image/png": "[encoded data removed]"
          },
          "metadata": {}
        },
        {
          "output_type": "display_data",
          "data": {
            "text/plain": [
              "<Figure size 600x300 with 1 Axes>"
            ],
            "image/png": "[encoded data removed]"
          },
          "metadata": {}
        },
        {
          "output_type": "display_data",
          "data": {
            "text/plain": [
              "<Figure size 600x300 with 1 Axes>"
            ],
            "image/png": "[encoded data removed]"
          },
          "metadata": {}
        },
        {
          "output_type": "display_data",
          "data": {
            "text/plain": [
              "<Figure size 600x300 with 1 Axes>"
            ],
            "image/png": "[encoded data removed]"
          },
          "metadata": {}
        }
      ]
    },
    {
      "cell_type": "markdown",
      "source": [
        "Summary of positive data"
      ],
      "metadata": {
        "id": "VmQ7v9XzWbmS"
      }
    },
    {
      "cell_type": "code",
      "source": [
        "print(f\"Number of total no harm = {sum((pos_df['self_harm'] == 0) & (pos_df['harming_others'] == 0) & (pos_df['harmed_by_others'] == 0) & (pos_df['reference_to_harm'] == 0))}\")\n",
        "for label in CFG.labels:\n",
        "    print(f\"Number of total {label} = {sum(pos_df[label] == 1)}\")"
      ],
      "metadata": {
        "colab": {
          "base_uri": "https://localhost:8080/"
        },
        "id": "7-mq2w4d9Ews",
        "outputId": "b36ff9a2-b778-4017-c39e-24e6abc843aa"
      },
      "execution_count": 17,
      "outputs": [
        {
          "output_type": "stream",
          "name": "stdout",
          "text": [
            "Number of total no harm = 17799\n",
            "Number of total self_harm = 3125\n",
            "Number of total harming_others = 8305\n",
            "Number of total harmed_by_others = 5585\n",
            "Number of total reference_to_harm = 3402\n"
          ]
        }
      ]
    },
    {
      "cell_type": "code",
      "source": [
        "sns.set(font_scale=0.75)\n",
        "plt.figure(figsize=(6, 3))\n",
        "plt.ylim(0, 100)\n",
        "plt.title(f\"Distribution of harm labels in positive data\")\n",
        "sns.barplot(x=CFG.labels, y=[sum(pos_df[label] == 1)/len(pos_df) * 100 for label in CFG.labels])\n",
        "plt.ylabel(\"Percentage of harm labels\")"
      ],
      "metadata": {
        "colab": {
          "base_uri": "https://localhost:8080/",
          "height": 328
        },
        "id": "3czA8aUp8Ut2",
        "outputId": "fa862c83-e1d8-4b42-d4d7-5bfc5b0192eb"
      },
      "execution_count": 18,
      "outputs": [
        {
          "output_type": "execute_result",
          "data": {
            "text/plain": [
              "Text(0, 0.5, 'Percentage of harm labels')"
            ]
          },
          "metadata": {},
          "execution_count": 18
        },
        {
          "output_type": "display_data",
          "data": {
            "text/plain": [
              "<Figure size 600x300 with 1 Axes>"
            ],
            "image/png": "[encoded data removed]"
          },
          "metadata": {}
        }
      ]
    },
    {
      "cell_type": "markdown",
      "source": [
        "# Load Negative Data"
      ],
      "metadata": {
        "id": "YmWoCib-aPzG"
      }
    },
    {
      "cell_type": "markdown",
      "source": [
        "The negative data set consists of data with 0 'toxicity' from the toxic data set. Even though I'd like to label them 0 in all harm labels, some of them have positive 'harmed_by_others' or 'reference_to_harm'. I go through a filtering process to remove them."
      ],
      "metadata": {
        "id": "YkKft3JnnsJz"
      }
    },
    {
      "cell_type": "code",
      "source": [
        "toxic_train_df = pd.read_csv(PATHS.toxic_train, dtype={'id': 'string'})"
      ],
      "metadata": {
        "id": "ZRJi1ghb5RhT"
      },
      "execution_count": null,
      "outputs": []
    },
    {
      "cell_type": "code",
      "source": [
        "neg_df = toxic_train_df.loc[toxic_train_df['target'] == 0].dropna()\n",
        "neg_df = neg_df.rename(columns={'comment_text': 'text'})[['id', 'text']]\n",
        "neg_df['text'] = neg_df['text'].str.replace('\\n', ' ')\n",
        "neg_df[CFG.labels] = [0, 0, 0, 0]"
      ],
      "metadata": {
        "id": "ES0tgusZ2zoX"
      },
      "execution_count": null,
      "outputs": []
    },
    {
      "cell_type": "code",
      "source": [
        "train_df = pd.concat([pos_df, neg_df])"
      ],
      "metadata": {
        "id": "V1_wXLn55jHX"
      },
      "execution_count": null,
      "outputs": []
    },
    {
      "cell_type": "markdown",
      "source": [
        "# Train Test Split"
      ],
      "metadata": {
        "id": "Arg-i4tG_A5K"
      }
    },
    {
      "cell_type": "code",
      "source": [
        "X = train_df\n",
        "y = train_df[CFG.labels]"
      ],
      "metadata": {
        "id": "7Oa4UopT_qgu"
      },
      "execution_count": null,
      "outputs": []
    },
    {
      "cell_type": "code",
      "source": [
        "X_train, y_train, X_test, y_test = iterative_train_test_split(X.to_numpy(), y.to_numpy(), test_size=0.1)"
      ],
      "metadata": {
        "id": "wSMOQOSUADFM"
      },
      "execution_count": null,
      "outputs": []
    },
    {
      "cell_type": "code",
      "source": [
        "train = pd.DataFrame(X_train, columns=(['id', 'text']+CFG.labels))\n",
        "test = pd.DataFrame(X_test, columns=(['id', 'text']+CFG.labels))"
      ],
      "metadata": {
        "id": "yOomapuwDDwO"
      },
      "execution_count": null,
      "outputs": []
    },
    {
      "cell_type": "markdown",
      "source": [
        "# Tokenize Prep Train"
      ],
      "metadata": {
        "id": "3UsQpIvBO0Wn"
      }
    },
    {
      "cell_type": "markdown",
      "source": [
        "pos_train are the part of the training split that belong to the original positive data. In other words, they're what's left after I remove the negative data from the train split. I carry out a \"prep training\" based on this smaller set pos_train, and use this \"prep training\" model to filter out the negative data with harm labels."
      ],
      "metadata": {
        "id": "IUp9Rzw0ol9D"
      }
    },
    {
      "cell_type": "code",
      "source": [
        "pos_train = train[train['id'].isin(pos_df['id'])]"
      ],
      "metadata": {
        "id": "iL9Jl82KOg2S"
      },
      "execution_count": null,
      "outputs": []
    },
    {
      "cell_type": "code",
      "source": [
        "tokenizer = AutoTokenizer.from_pretrained(CFG.model_name)"
      ],
      "metadata": {
        "id": "qb8AxmbxO0Wn"
      },
      "execution_count": null,
      "outputs": []
    },
    {
      "cell_type": "code",
      "source": [
        "def tokenize_function(batch):\n",
        "    tokenized_inputs = tokenizer(\n",
        "        batch['text'],\n",
        "        padding=True,\n",
        "        truncation=True,\n",
        "        max_length=CFG.max_length,\n",
        "    )\n",
        "    batch_labels = {label: batch[label] for label in CFG.labels}\n",
        "    matrix_labels = np.zeros((len(batch['text']), len(CFG.labels)))\n",
        "    for i, label in enumerate(CFG.labels):\n",
        "        matrix_labels[:, i] = batch_labels[label]\n",
        "    tokenized_inputs['labels'] = matrix_labels\n",
        "    return tokenized_inputs"
      ],
      "metadata": {
        "id": "qwIBopiWO0Wo"
      },
      "execution_count": null,
      "outputs": []
    },
    {
      "cell_type": "code",
      "source": [
        "pos_train_dict = {}\n",
        "for col in ['id', 'text'] + CFG.labels:\n",
        "    pos_train_dict[col] = pos_train[col].tolist()"
      ],
      "metadata": {
        "id": "h5J9P_tGO0Wo"
      },
      "execution_count": null,
      "outputs": []
    },
    {
      "cell_type": "code",
      "source": [
        "pos_train_ds = Dataset.from_dict(pos_train_dict)\n",
        "tokenized_pos_train_ds = pos_train_ds.map(tokenize_function, batched=True)\n",
        "tokenized_pos_train_ds.set_format('torch')"
      ],
      "metadata": {
        "colab": {
          "base_uri": "https://localhost:8080/",
          "height": 49,
          "referenced_widgets": [
            "280bd1a03cb6460294af18b84b6139d6",
            "04cb67a349b943a090cfbd13e55da00a",
            "d386a69327704cb78e2fc8c134973800",
            "3a0a7b8517044fa89e90e088c1146f38",
            "997694def7024575881db6438d51d64d",
            "c28eae79a1ae4ac58edc8eddad6d72d2",
            "94bcd8d075b043b1af53c5c4f7ec5d1d",
            "6d037b10fa114919abd3d169b5667b7e",
            "fc6c3c7185a94096a273437224bf1986",
            "b311d63e636c42679d527f1a83c810a1",
            "7de5ada25aec49638495f1adbf43d889"
          ]
        },
        "outputId": "a0436195-490b-41b1-a7ab-a63f99d9fd53",
        "id": "PAFPY_OVO0Wp"
      },
      "execution_count": null,
      "outputs": [
        {
          "output_type": "display_data",
          "data": {
            "text/plain": [
              "Map:   0%|          | 0/35275 [00:00<?, ? examples/s]"
            ],
            "application/vnd.jupyter.widget-view+json": {
              "version_major": 2,
              "version_minor": 0,
              "model_id": "280bd1a03cb6460294af18b84b6139d6"
            }
          },
          "metadata": {}
        }
      ]
    },
    {
      "cell_type": "code",
      "source": [
        "id2label = {i: label for i, label in enumerate(CFG.labels)}\n",
        "label2id = {label: i for i, label in enumerate(CFG.labels)}"
      ],
      "metadata": {
        "id": "PjzHv-ppO0Wp"
      },
      "execution_count": null,
      "outputs": []
    },
    {
      "cell_type": "markdown",
      "source": [
        "# Prep Training"
      ],
      "metadata": {
        "id": "owD7Y50qO0Wq"
      }
    },
    {
      "cell_type": "code",
      "source": [
        "config = AutoConfig.from_pretrained(CFG.model_name)\n",
        "config.num_labels = len(CFG.labels)\n",
        "config.problem_type = 'multi_label_classification'\n",
        "config.id2label = id2label\n",
        "config.label2id = label2id\n",
        "model = AutoModelForSequenceClassification.from_pretrained(CFG.model_name, config=config)\n",
        "model.resize_token_embeddings(len(tokenizer))"
      ],
      "metadata": {
        "colab": {
          "base_uri": "https://localhost:8080/"
        },
        "outputId": "48528994-427d-4c11-c88f-11b8d8212875",
        "id": "XtnNkvd0O0Wq"
      },
      "execution_count": null,
      "outputs": [
        {
          "output_type": "stream",
          "name": "stderr",
          "text": [
            "Some weights of DebertaV2ForSequenceClassification were not initialized from the model checkpoint at microsoft/deberta-v3-small and are newly initialized: ['classifier.bias', 'classifier.weight', 'pooler.dense.bias', 'pooler.dense.weight']\n",
            "You should probably TRAIN this model on a down-stream task to be able to use it for predictions and inference.\n"
          ]
        },
        {
          "output_type": "execute_result",
          "data": {
            "text/plain": [
              "Embedding(128001, 768, padding_idx=0)"
            ]
          },
          "metadata": {},
          "execution_count": 27
        }
      ]
    },
    {
      "cell_type": "code",
      "source": [
        "training_args = TrainingArguments(\n",
        "    output_dir='output',\n",
        "    fp16=True,\n",
        "    learning_rate=CFG.lr,\n",
        "    per_device_train_batch_size=CFG.train_batch_size,\n",
        "    num_train_epochs=CFG.train_epochs,\n",
        "    weight_decay=CFG.weight_decay,\n",
        "    save_strategy='epoch',\n",
        "    save_total_limit=1,\n",
        "    report_to='none',\n",
        "    warmup_ratio=CFG.warmup_ratio,\n",
        "    lr_scheduler_type='linear',\n",
        "    optim='adamw_torch',\n",
        "    logging_first_step=True,\n",
        ")\n",
        "trainer = Trainer(\n",
        "    model=model,\n",
        "    args=training_args,\n",
        "    train_dataset=tokenized_pos_train_ds,\n",
        "    tokenizer=tokenizer,\n",
        ")"
      ],
      "metadata": {
        "id": "3vZVWWcpO0Wq"
      },
      "execution_count": null,
      "outputs": []
    },
    {
      "cell_type": "code",
      "source": [
        "trainer.train()"
      ],
      "metadata": {
        "colab": {
          "base_uri": "https://localhost:8080/",
          "height": 394
        },
        "outputId": "1cf9c02f-15cb-47f3-ee21-6cc38ac7eb36",
        "id": "wiJo-9MaO0Wq"
      },
      "execution_count": null,
      "outputs": [
        {
          "output_type": "display_data",
          "data": {
            "text/plain": [
              "<IPython.core.display.HTML object>"
            ],
            "text/html": [
              "\n",
              "    <div>\n",
              "      \n",
              "      <progress value='4412' max='4412' style='width:300px; height:20px; vertical-align: middle;'></progress>\n",
              "      [4412/4412 1:16:21, Epoch 4/4]\n",
              "    </div>\n",
              "    <table border=\"1\" class=\"dataframe\">\n",
              "  <thead>\n",
              " <tr style=\"text-align: left;\">\n",
              "      <th>Step</th>\n",
              "      <th>Training Loss</th>\n",
              "    </tr>\n",
              "  </thead>\n",
              "  <tbody>\n",
              "    <tr>\n",
              "      <td>1</td>\n",
              "      <td>0.680300</td>\n",
              "    </tr>\n",
              "    <tr>\n",
              "      <td>500</td>\n",
              "      <td>0.253500</td>\n",
              "    </tr>\n",
              "    <tr>\n",
              "      <td>1000</td>\n",
              "      <td>0.144400</td>\n",
              "    </tr>\n",
              "    <tr>\n",
              "      <td>1500</td>\n",
              "      <td>0.122400</td>\n",
              "    </tr>\n",
              "    <tr>\n",
              "      <td>2000</td>\n",
              "      <td>0.118000</td>\n",
              "    </tr>\n",
              "    <tr>\n",
              "      <td>2500</td>\n",
              "      <td>0.106600</td>\n",
              "    </tr>\n",
              "    <tr>\n",
              "      <td>3000</td>\n",
              "      <td>0.102300</td>\n",
              "    </tr>\n",
              "    <tr>\n",
              "      <td>3500</td>\n",
              "      <td>0.095900</td>\n",
              "    </tr>\n",
              "    <tr>\n",
              "      <td>4000</td>\n",
              "      <td>0.089400</td>\n",
              "    </tr>\n",
              "  </tbody>\n",
              "</table><p>"
            ]
          },
          "metadata": {}
        },
        {
          "output_type": "execute_result",
          "data": {
            "text/plain": [
              "TrainOutput(global_step=4412, training_loss=0.12554792207365995, metrics={'train_runtime': 4584.1304, 'train_samples_per_second': 30.78, 'train_steps_per_second': 0.962, 'total_flos': 1.86924824039424e+16, 'train_loss': 0.12554792207365995, 'epoch': 4.0})"
            ]
          },
          "metadata": {},
          "execution_count": 29
        }
      ]
    },
    {
      "cell_type": "code",
      "source": [
        "trainer.save_model(PATHS.save_model_prep)"
      ],
      "metadata": {
        "id": "pqD5-hOlO0Wq"
      },
      "execution_count": null,
      "outputs": []
    },
    {
      "cell_type": "markdown",
      "source": [
        "# Inference on the Negative Data\n",
        "\n",
        "\n"
      ],
      "metadata": {
        "id": "aOR3t-8tVOaj"
      }
    },
    {
      "cell_type": "markdown",
      "source": [
        "We run inference on the negative data using the \"prep training\" model, and filter out the data with harm labels."
      ],
      "metadata": {
        "id": "w0-b2Ofnk1-i"
      }
    },
    {
      "cell_type": "code",
      "source": [
        "sigmoid = torch.nn.Sigmoid()"
      ],
      "metadata": {
        "id": "KFbJwuR7Xoth"
      },
      "execution_count": null,
      "outputs": []
    },
    {
      "cell_type": "code",
      "source": [
        "neg_dict = {}\n",
        "for col in ['id', 'text'] + CFG.labels:\n",
        "    neg_dict[col] = neg_df[col].tolist()"
      ],
      "metadata": {
        "id": "fL_707SrWZ4f"
      },
      "execution_count": null,
      "outputs": []
    },
    {
      "cell_type": "code",
      "source": [
        "neg_ds = Dataset.from_dict(neg_dict)\n",
        "tokenized_neg_ds = neg_ds.map(tokenize_function, batched=True)\n",
        "tokenized_neg_ds.set_format('torch')"
      ],
      "metadata": {
        "colab": {
          "base_uri": "https://localhost:8080/",
          "height": 49,
          "referenced_widgets": [
            "63bbd2367fe84975a2321df85a8a2570",
            "0dd4b6c3220e4e61a2115779e37de75b",
            "86e78238cdad49ffb36fd17bfed291f0",
            "cc38372dd02f453e9131a9be2276117e",
            "7376985aa9df46afa0bf388f7198abea",
            "c10b245771534e9986f2a2de7202d8c6",
            "601a3db1af01457da254be5ef3a44c0b",
            "961771e8a41d41fcb2d073732c2a75bb",
            "e9b4e1fc915240d48697eedd6b7db277",
            "7a4a1a4c9830405ebccae55d57d92149",
            "7c9136d3a8be433ea83ce2bce76a888b"
          ]
        },
        "id": "ri3uQIkz37ra",
        "outputId": "9ba7259f-1ef9-4ddd-fa62-9d3a5fc5203e"
      },
      "execution_count": null,
      "outputs": [
        {
          "output_type": "display_data",
          "data": {
            "text/plain": [
              "Map:   0%|          | 0/144210 [00:00<?, ? examples/s]"
            ],
            "application/vnd.jupyter.widget-view+json": {
              "version_major": 2,
              "version_minor": 0,
              "model_id": "63bbd2367fe84975a2321df85a8a2570"
            }
          },
          "metadata": {}
        }
      ]
    },
    {
      "cell_type": "code",
      "source": [
        "neg_pred = trainer.predict(tokenized_neg_ds)"
      ],
      "metadata": {
        "colab": {
          "base_uri": "https://localhost:8080/",
          "height": 17
        },
        "id": "YSN7Bpy2WxRL",
        "outputId": "63bb44eb-3fa3-4574-eaaa-2620f4a9875e"
      },
      "execution_count": null,
      "outputs": [
        {
          "output_type": "display_data",
          "data": {
            "text/plain": [
              "<IPython.core.display.HTML object>"
            ],
            "text/html": []
          },
          "metadata": {}
        }
      ]
    },
    {
      "cell_type": "code",
      "source": [
        "neg_proba = sigmoid(torch.Tensor(neg_pred.predictions)).numpy()\n",
        "neg_pred = np.where(neg_proba >= 0.5, 1, 0)"
      ],
      "metadata": {
        "id": "Q4j66cJLXTD8"
      },
      "execution_count": null,
      "outputs": []
    },
    {
      "cell_type": "code",
      "source": [
        "neg_df[[label+'_pred' for label in CFG.labels]] = neg_pred\n",
        "mask = ( (neg_df['self_harm'] != neg_df['self_harm_pred']) | (neg_df['harming_others'] != neg_df['harming_others_pred']) |\n",
        "         (neg_df['harmed_by_others'] != neg_df['harmed_by_others_pred']) | (neg_df['reference_to_harm'] != neg_df['reference_to_harm_pred']) )"
      ],
      "metadata": {
        "id": "HI2vEWGFXbEQ"
      },
      "execution_count": null,
      "outputs": []
    },
    {
      "cell_type": "code",
      "source": [
        "neg_drop_df = neg_df[mask]\n",
        "train = train[~train['id'].isin(neg_drop_df['id'])]\n",
        "test = test[~test['id'].isin(neg_drop_df['id'])]"
      ],
      "metadata": {
        "id": "MrNDlYT4ZIE6"
      },
      "execution_count": null,
      "outputs": []
    },
    {
      "cell_type": "markdown",
      "source": [
        "Write filtered training and test"
      ],
      "metadata": {
        "id": "dBn4iqBuR6Ao"
      }
    },
    {
      "cell_type": "code",
      "source": [
        "for label in CFG.labels:\n",
        "    print(f\"{label}: positives in training = {sum(train[label] == 1)}, positives in test = {sum(test[label] == 1)}\")"
      ],
      "metadata": {
        "colab": {
          "base_uri": "https://localhost:8080/"
        },
        "id": "D3jvKe0yDtsP",
        "outputId": "986d063a-6008-4e75-8e9e-83bdf1198f23"
      },
      "execution_count": null,
      "outputs": [
        {
          "output_type": "stream",
          "name": "stdout",
          "text": [
            "self_harm: positives in training = 2813, positives in test = 312\n",
            "harming_others: positives in training = 7475, positives in test = 830\n",
            "harmed_by_others: positives in training = 5027, positives in test = 558\n",
            "reference_to_harm: positives in training = 3062, positives in test = 340\n"
          ]
        }
      ]
    },
    {
      "cell_type": "code",
      "source": [
        "train.to_csv(PATHS.final_train, sep='\\t', index=False)\n",
        "test.to_csv(PATHS.final_test, sep='\\t', index=False)"
      ],
      "metadata": {
        "id": "TQcXnsoaRCHu"
      },
      "execution_count": null,
      "outputs": []
    },
    {
      "cell_type": "code",
      "source": [
        "print(len(train), len(test))"
      ],
      "metadata": {
        "colab": {
          "base_uri": "https://localhost:8080/"
        },
        "id": "Z6AOBx3AmhOM",
        "outputId": "3663a403-07e5-4706-cf0e-b0f945788cdb"
      },
      "execution_count": null,
      "outputs": [
        {
          "output_type": "stream",
          "name": "stdout",
          "text": [
            "132485 14266\n"
          ]
        }
      ]
    }
  ]
}