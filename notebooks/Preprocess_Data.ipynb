{
  "nbformat": 4,
  "nbformat_minor": 0,
  "metadata": {
    "colab": {
      "provenance": [],
      "authorship_tag": "ABX9TyM/3orDG+5+pBkgDC0j//ML"
    },
    "kernelspec": {
      "name": "python3",
      "display_name": "Python 3"
    },
    "language_info": {
      "name": "python"
    }
  },
  "cells": [
    {
      "cell_type": "markdown",
      "source": [
        "This notebook is for preprocessing data. I converted data from different sources into tsv with a uniform format, and removed texts with fewer than or equal to five words."
      ],
      "metadata": {
        "id": "GMZleraM8ohI"
      }
    },
    {
      "cell_type": "code",
      "source": [
        "from google.colab import userdata\n",
        "import os\n",
        "\n",
        "os.environ[\"KAGGLE_KEY\"] = userdata.get('KAGGLE_KEY')\n",
        "os.environ[\"KAGGLE_USERNAME\"] = userdata.get('KAGGLE_USERNAME')"
      ],
      "metadata": {
        "id": "UquW49wCU4zT"
      },
      "execution_count": 1,
      "outputs": []
    },
    {
      "cell_type": "code",
      "execution_count": null,
      "metadata": {
        "id": "BIrwkulvKp7e"
      },
      "outputs": [],
      "source": [
        "from google.colab import drive\n",
        "drive.mount('/content/drive')"
      ]
    },
    {
      "cell_type": "markdown",
      "source": [
        "# Download Toxic Data"
      ],
      "metadata": {
        "id": "AjYWY2r1VJwa"
      }
    },
    {
      "cell_type": "code",
      "source": [
        "!kaggle competitions download -c jigsaw-unintended-bias-in-toxicity-classification\n",
        "!yes | unzip jigsaw-unintended-bias-in-toxicity-classification.zip\n",
        "!rm jigsaw-unintended-bias-in-toxicity-classification.zip"
      ],
      "metadata": {
        "id": "eNE_2hhdVCCe"
      },
      "execution_count": null,
      "outputs": []
    },
    {
      "cell_type": "markdown",
      "source": [
        "# Set Up"
      ],
      "metadata": {
        "id": "cbnGYhPcVXH5"
      }
    },
    {
      "cell_type": "code",
      "source": [
        "import numpy as np, pandas as pd"
      ],
      "metadata": {
        "id": "33P_eOw7K28T"
      },
      "execution_count": 5,
      "outputs": []
    },
    {
      "cell_type": "code",
      "source": [
        "class PATHS:\n",
        "    save = '/content/drive/MyDrive'\n",
        "    train = 'train.csv'"
      ],
      "metadata": {
        "id": "1kxKVC-dQG7a"
      },
      "execution_count": 4,
      "outputs": []
    },
    {
      "cell_type": "markdown",
      "source": [
        "# Preprocess Toxic Data"
      ],
      "metadata": {
        "id": "GS5Kdkv7Wecp"
      }
    },
    {
      "cell_type": "code",
      "source": [
        "threshold = 0.9\n",
        "df = pd.read_csv(PATHS.train)\n",
        "df = df[df['target'] >= threshold]\n",
        "df = df[['id', 'comment_text']]\n",
        "df = df.rename(columns={'comment_text': 'text'})\n",
        "df['text'] = df['text'].str.replace('\\n', ' ')\n",
        "df.to_csv(f'{PATHS.save}/jigsaw_toxic_2019_threshold_{threshold}.tsv', sep='\\t', index=False)"
      ],
      "metadata": {
        "id": "c1Hcf1acWnws"
      },
      "execution_count": null,
      "outputs": []
    },
    {
      "cell_type": "markdown",
      "source": [
        "# Preprocess Amazon and Reddit Data"
      ],
      "metadata": {
        "id": "F-nRuCVJV28j"
      }
    },
    {
      "cell_type": "markdown",
      "source": [
        "Convert json to tsv and change 'timestamp' column to 'id'."
      ],
      "metadata": {
        "id": "H_XBqpH1OE4Q"
      }
    },
    {
      "cell_type": "code",
      "source": [
        "for name in ['amazon_review_All_Beauty_threshold_0.4']:\n",
        "    path = f'{PATHS.save}/{name}.json'\n",
        "    df = pd.read_json(path, convert_dates=False, lines=True)\n",
        "    df = df.rename(columns={'timestamp': 'id'})\n",
        "    df = df[['id', 'text']]\n",
        "    df.to_csv(f'{PATHS.save}/{name}.tsv', sep='\\t', index=False)"
      ],
      "metadata": {
        "id": "lVL1WYKYOhQe"
      },
      "execution_count": null,
      "outputs": []
    },
    {
      "cell_type": "markdown",
      "source": [
        "Remove rows whose text is fewer than or equal to five words because it lacks\n",
        "context. They are not helpful in training."
      ],
      "metadata": {
        "id": "UzZFNlJpOPLN"
      }
    },
    {
      "cell_type": "code",
      "source": [
        "for name in ['subreddit_SuicideWatch_900_v2', 'subreddit_abusiverelationships_900_v2', 'subreddit_abusiverelationships_600_v2_comments', 'amazon_review_All_Beauty_threshold_0.4']:\n",
        "    path = f'{PATHS.save}/{name}.tsv'\n",
        "    df = pd.read_csv(path, sep='\\t')\n",
        "    df = df.drop_duplicates(subset=['id'])\n",
        "    mask = (df['text'].str.count(' ') < 5)\n",
        "    print(f'Trim {sum(mask)} rows from {name}.tsv')\n",
        "    df = df[~mask]\n",
        "    df.to_csv(f'{PATHS.save}/{name}_trimmed.tsv', sep='\\t', index=False)"
      ],
      "metadata": {
        "colab": {
          "base_uri": "https://localhost:8080/"
        },
        "id": "N6g2AzboNjSt",
        "outputId": "2cb606e3-8d2e-4f08-de0c-8d9379f0ee10"
      },
      "execution_count": 6,
      "outputs": [
        {
          "output_type": "stream",
          "name": "stdout",
          "text": [
            "Trim 647 rows from subreddit_SuicideWatch_900_v2.tsv\n",
            "Trim 655 rows from subreddit_abusiverelationships_900_v2.tsv\n",
            "Trim 974 rows from subreddit_abusiverelationships_600_v2_comments.tsv\n",
            "Trim 913 rows from amazon_review_All_Beauty_threshold_0.4.tsv\n"
          ]
        }
      ]
    }
  ]
}