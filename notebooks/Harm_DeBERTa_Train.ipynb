{
  "nbformat": 4,
  "nbformat_minor": 0,
  "metadata": {
    "colab": {
      "provenance": [],
      "authorship_tag": "ABX9TyMTHitliKYVtKZ/BfKEvP0E"
    },
    "kernelspec": {
      "name": "python3",
      "display_name": "Python 3"
    },
    "language_info": {
      "name": "python"
    },
    "widgets": {
      "application/vnd.jupyter.widget-state+json": {
        "280bd1a03cb6460294af18b84b6139d6": {
          "model_module": "@jupyter-widgets/controls",
          "model_name": "HBoxModel",
          "model_module_version": "1.5.0",
          "state": {
            "_dom_classes": [],
            "_model_module": "@jupyter-widgets/controls",
            "_model_module_version": "1.5.0",
            "_model_name": "HBoxModel",
            "_view_count": null,
            "_view_module": "@jupyter-widgets/controls",
            "_view_module_version": "1.5.0",
            "_view_name": "HBoxView",
            "box_style": "",
            "children": [
              "IPY_MODEL_04cb67a349b943a090cfbd13e55da00a",
              "IPY_MODEL_d386a69327704cb78e2fc8c134973800",
              "IPY_MODEL_3a0a7b8517044fa89e90e088c1146f38"
            ],
            "layout": "IPY_MODEL_997694def7024575881db6438d51d64d"
          }
        },
        "04cb67a349b943a090cfbd13e55da00a": {
          "model_module": "@jupyter-widgets/controls",
          "model_name": "HTMLModel",
          "model_module_version": "1.5.0",
          "state": {
            "_dom_classes": [],
            "_model_module": "@jupyter-widgets/controls",
            "_model_module_version": "1.5.0",
            "_model_name": "HTMLModel",
            "_view_count": null,
            "_view_module": "@jupyter-widgets/controls",
            "_view_module_version": "1.5.0",
            "_view_name": "HTMLView",
            "description": "",
            "description_tooltip": null,
            "layout": "IPY_MODEL_c28eae79a1ae4ac58edc8eddad6d72d2",
            "placeholder": "​",
            "style": "IPY_MODEL_94bcd8d075b043b1af53c5c4f7ec5d1d",
            "value": "Map: 100%"
          }
        },
        "d386a69327704cb78e2fc8c134973800": {
          "model_module": "@jupyter-widgets/controls",
          "model_name": "FloatProgressModel",
          "model_module_version": "1.5.0",
          "state": {
            "_dom_classes": [],
            "_model_module": "@jupyter-widgets/controls",
            "_model_module_version": "1.5.0",
            "_model_name": "FloatProgressModel",
            "_view_count": null,
            "_view_module": "@jupyter-widgets/controls",
            "_view_module_version": "1.5.0",
            "_view_name": "ProgressView",
            "bar_style": "success",
            "description": "",
            "description_tooltip": null,
            "layout": "IPY_MODEL_6d037b10fa114919abd3d169b5667b7e",
            "max": 35275,
            "min": 0,
            "orientation": "horizontal",
            "style": "IPY_MODEL_fc6c3c7185a94096a273437224bf1986",
            "value": 35275
          }
        },
        "3a0a7b8517044fa89e90e088c1146f38": {
          "model_module": "@jupyter-widgets/controls",
          "model_name": "HTMLModel",
          "model_module_version": "1.5.0",
          "state": {
            "_dom_classes": [],
            "_model_module": "@jupyter-widgets/controls",
            "_model_module_version": "1.5.0",
            "_model_name": "HTMLModel",
            "_view_count": null,
            "_view_module": "@jupyter-widgets/controls",
            "_view_module_version": "1.5.0",
            "_view_name": "HTMLView",
            "description": "",
            "description_tooltip": null,
            "layout": "IPY_MODEL_b311d63e636c42679d527f1a83c810a1",
            "placeholder": "​",
            "style": "IPY_MODEL_7de5ada25aec49638495f1adbf43d889",
            "value": " 35275/35275 [00:17&lt;00:00, 2782.38 examples/s]"
          }
        },
        "997694def7024575881db6438d51d64d": {
          "model_module": "@jupyter-widgets/base",
          "model_name": "LayoutModel",
          "model_module_version": "1.2.0",
          "state": {
            "_model_module": "@jupyter-widgets/base",
            "_model_module_version": "1.2.0",
            "_model_name": "LayoutModel",
            "_view_count": null,
            "_view_module": "@jupyter-widgets/base",
            "_view_module_version": "1.2.0",
            "_view_name": "LayoutView",
            "align_content": null,
            "align_items": null,
            "align_self": null,
            "border": null,
            "bottom": null,
            "display": null,
            "flex": null,
            "flex_flow": null,
            "grid_area": null,
            "grid_auto_columns": null,
            "grid_auto_flow": null,
            "grid_auto_rows": null,
            "grid_column": null,
            "grid_gap": null,
            "grid_row": null,
            "grid_template_areas": null,
            "grid_template_columns": null,
            "grid_template_rows": null,
            "height": null,
            "justify_content": null,
            "justify_items": null,
            "left": null,
            "margin": null,
            "max_height": null,
            "max_width": null,
            "min_height": null,
            "min_width": null,
            "object_fit": null,
            "object_position": null,
            "order": null,
            "overflow": null,
            "overflow_x": null,
            "overflow_y": null,
            "padding": null,
            "right": null,
            "top": null,
            "visibility": null,
            "width": null
          }
        },
        "c28eae79a1ae4ac58edc8eddad6d72d2": {
          "model_module": "@jupyter-widgets/base",
          "model_name": "LayoutModel",
          "model_module_version": "1.2.0",
          "state": {
            "_model_module": "@jupyter-widgets/base",
            "_model_module_version": "1.2.0",
            "_model_name": "LayoutModel",
            "_view_count": null,
            "_view_module": "@jupyter-widgets/base",
            "_view_module_version": "1.2.0",
            "_view_name": "LayoutView",
            "align_content": null,
            "align_items": null,
            "align_self": null,
            "border": null,
            "bottom": null,
            "display": null,
            "flex": null,
            "flex_flow": null,
            "grid_area": null,
            "grid_auto_columns": null,
            "grid_auto_flow": null,
            "grid_auto_rows": null,
            "grid_column": null,
            "grid_gap": null,
            "grid_row": null,
            "grid_template_areas": null,
            "grid_template_columns": null,
            "grid_template_rows": null,
            "height": null,
            "justify_content": null,
            "justify_items": null,
            "left": null,
            "margin": null,
            "max_height": null,
            "max_width": null,
            "min_height": null,
            "min_width": null,
            "object_fit": null,
            "object_position": null,
            "order": null,
            "overflow": null,
            "overflow_x": null,
            "overflow_y": null,
            "padding": null,
            "right": null,
            "top": null,
            "visibility": null,
            "width": null
          }
        },
        "94bcd8d075b043b1af53c5c4f7ec5d1d": {
          "model_module": "@jupyter-widgets/controls",
          "model_name": "DescriptionStyleModel",
          "model_module_version": "1.5.0",
          "state": {
            "_model_module": "@jupyter-widgets/controls",
            "_model_module_version": "1.5.0",
            "_model_name": "DescriptionStyleModel",
            "_view_count": null,
            "_view_module": "@jupyter-widgets/base",
            "_view_module_version": "1.2.0",
            "_view_name": "StyleView",
            "description_width": ""
          }
        },
        "6d037b10fa114919abd3d169b5667b7e": {
          "model_module": "@jupyter-widgets/base",
          "model_name": "LayoutModel",
          "model_module_version": "1.2.0",
          "state": {
            "_model_module": "@jupyter-widgets/base",
            "_model_module_version": "1.2.0",
            "_model_name": "LayoutModel",
            "_view_count": null,
            "_view_module": "@jupyter-widgets/base",
            "_view_module_version": "1.2.0",
            "_view_name": "LayoutView",
            "align_content": null,
            "align_items": null,
            "align_self": null,
            "border": null,
            "bottom": null,
            "display": null,
            "flex": null,
            "flex_flow": null,
            "grid_area": null,
            "grid_auto_columns": null,
            "grid_auto_flow": null,
            "grid_auto_rows": null,
            "grid_column": null,
            "grid_gap": null,
            "grid_row": null,
            "grid_template_areas": null,
            "grid_template_columns": null,
            "grid_template_rows": null,
            "height": null,
            "justify_content": null,
            "justify_items": null,
            "left": null,
            "margin": null,
            "max_height": null,
            "max_width": null,
            "min_height": null,
            "min_width": null,
            "object_fit": null,
            "object_position": null,
            "order": null,
            "overflow": null,
            "overflow_x": null,
            "overflow_y": null,
            "padding": null,
            "right": null,
            "top": null,
            "visibility": null,
            "width": null
          }
        },
        "fc6c3c7185a94096a273437224bf1986": {
          "model_module": "@jupyter-widgets/controls",
          "model_name": "ProgressStyleModel",
          "model_module_version": "1.5.0",
          "state": {
            "_model_module": "@jupyter-widgets/controls",
            "_model_module_version": "1.5.0",
            "_model_name": "ProgressStyleModel",
            "_view_count": null,
            "_view_module": "@jupyter-widgets/base",
            "_view_module_version": "1.2.0",
            "_view_name": "StyleView",
            "bar_color": null,
            "description_width": ""
          }
        },
        "b311d63e636c42679d527f1a83c810a1": {
          "model_module": "@jupyter-widgets/base",
          "model_name": "LayoutModel",
          "model_module_version": "1.2.0",
          "state": {
            "_model_module": "@jupyter-widgets/base",
            "_model_module_version": "1.2.0",
            "_model_name": "LayoutModel",
            "_view_count": null,
            "_view_module": "@jupyter-widgets/base",
            "_view_module_version": "1.2.0",
            "_view_name": "LayoutView",
            "align_content": null,
            "align_items": null,
            "align_self": null,
            "border": null,
            "bottom": null,
            "display": null,
            "flex": null,
            "flex_flow": null,
            "grid_area": null,
            "grid_auto_columns": null,
            "grid_auto_flow": null,
            "grid_auto_rows": null,
            "grid_column": null,
            "grid_gap": null,
            "grid_row": null,
            "grid_template_areas": null,
            "grid_template_columns": null,
            "grid_template_rows": null,
            "height": null,
            "justify_content": null,
            "justify_items": null,
            "left": null,
            "margin": null,
            "max_height": null,
            "max_width": null,
            "min_height": null,
            "min_width": null,
            "object_fit": null,
            "object_position": null,
            "order": null,
            "overflow": null,
            "overflow_x": null,
            "overflow_y": null,
            "padding": null,
            "right": null,
            "top": null,
            "visibility": null,
            "width": null
          }
        },
        "7de5ada25aec49638495f1adbf43d889": {
          "model_module": "@jupyter-widgets/controls",
          "model_name": "DescriptionStyleModel",
          "model_module_version": "1.5.0",
          "state": {
            "_model_module": "@jupyter-widgets/controls",
            "_model_module_version": "1.5.0",
            "_model_name": "DescriptionStyleModel",
            "_view_count": null,
            "_view_module": "@jupyter-widgets/base",
            "_view_module_version": "1.2.0",
            "_view_name": "StyleView",
            "description_width": ""
          }
        },
        "63bbd2367fe84975a2321df85a8a2570": {
          "model_module": "@jupyter-widgets/controls",
          "model_name": "HBoxModel",
          "model_module_version": "1.5.0",
          "state": {
            "_dom_classes": [],
            "_model_module": "@jupyter-widgets/controls",
            "_model_module_version": "1.5.0",
            "_model_name": "HBoxModel",
            "_view_count": null,
            "_view_module": "@jupyter-widgets/controls",
            "_view_module_version": "1.5.0",
            "_view_name": "HBoxView",
            "box_style": "",
            "children": [
              "IPY_MODEL_0dd4b6c3220e4e61a2115779e37de75b",
              "IPY_MODEL_86e78238cdad49ffb36fd17bfed291f0",
              "IPY_MODEL_cc38372dd02f453e9131a9be2276117e"
            ],
            "layout": "IPY_MODEL_7376985aa9df46afa0bf388f7198abea"
          }
        },
        "0dd4b6c3220e4e61a2115779e37de75b": {
          "model_module": "@jupyter-widgets/controls",
          "model_name": "HTMLModel",
          "model_module_version": "1.5.0",
          "state": {
            "_dom_classes": [],
            "_model_module": "@jupyter-widgets/controls",
            "_model_module_version": "1.5.0",
            "_model_name": "HTMLModel",
            "_view_count": null,
            "_view_module": "@jupyter-widgets/controls",
            "_view_module_version": "1.5.0",
            "_view_name": "HTMLView",
            "description": "",
            "description_tooltip": null,
            "layout": "IPY_MODEL_c10b245771534e9986f2a2de7202d8c6",
            "placeholder": "​",
            "style": "IPY_MODEL_601a3db1af01457da254be5ef3a44c0b",
            "value": "Map: 100%"
          }
        },
        "86e78238cdad49ffb36fd17bfed291f0": {
          "model_module": "@jupyter-widgets/controls",
          "model_name": "FloatProgressModel",
          "model_module_version": "1.5.0",
          "state": {
            "_dom_classes": [],
            "_model_module": "@jupyter-widgets/controls",
            "_model_module_version": "1.5.0",
            "_model_name": "FloatProgressModel",
            "_view_count": null,
            "_view_module": "@jupyter-widgets/controls",
            "_view_module_version": "1.5.0",
            "_view_name": "ProgressView",
            "bar_style": "success",
            "description": "",
            "description_tooltip": null,
            "layout": "IPY_MODEL_961771e8a41d41fcb2d073732c2a75bb",
            "max": 144210,
            "min": 0,
            "orientation": "horizontal",
            "style": "IPY_MODEL_e9b4e1fc915240d48697eedd6b7db277",
            "value": 144210
          }
        },
        "cc38372dd02f453e9131a9be2276117e": {
          "model_module": "@jupyter-widgets/controls",
          "model_name": "HTMLModel",
          "model_module_version": "1.5.0",
          "state": {
            "_dom_classes": [],
            "_model_module": "@jupyter-widgets/controls",
            "_model_module_version": "1.5.0",
            "_model_name": "HTMLModel",
            "_view_count": null,
            "_view_module": "@jupyter-widgets/controls",
            "_view_module_version": "1.5.0",
            "_view_name": "HTMLView",
            "description": "",
            "description_tooltip": null,
            "layout": "IPY_MODEL_7a4a1a4c9830405ebccae55d57d92149",
            "placeholder": "​",
            "style": "IPY_MODEL_7c9136d3a8be433ea83ce2bce76a888b",
            "value": " 144210/144210 [01:14&lt;00:00, 1974.11 examples/s]"
          }
        },
        "7376985aa9df46afa0bf388f7198abea": {
          "model_module": "@jupyter-widgets/base",
          "model_name": "LayoutModel",
          "model_module_version": "1.2.0",
          "state": {
            "_model_module": "@jupyter-widgets/base",
            "_model_module_version": "1.2.0",
            "_model_name": "LayoutModel",
            "_view_count": null,
            "_view_module": "@jupyter-widgets/base",
            "_view_module_version": "1.2.0",
            "_view_name": "LayoutView",
            "align_content": null,
            "align_items": null,
            "align_self": null,
            "border": null,
            "bottom": null,
            "display": null,
            "flex": null,
            "flex_flow": null,
            "grid_area": null,
            "grid_auto_columns": null,
            "grid_auto_flow": null,
            "grid_auto_rows": null,
            "grid_column": null,
            "grid_gap": null,
            "grid_row": null,
            "grid_template_areas": null,
            "grid_template_columns": null,
            "grid_template_rows": null,
            "height": null,
            "justify_content": null,
            "justify_items": null,
            "left": null,
            "margin": null,
            "max_height": null,
            "max_width": null,
            "min_height": null,
            "min_width": null,
            "object_fit": null,
            "object_position": null,
            "order": null,
            "overflow": null,
            "overflow_x": null,
            "overflow_y": null,
            "padding": null,
            "right": null,
            "top": null,
            "visibility": null,
            "width": null
          }
        },
        "c10b245771534e9986f2a2de7202d8c6": {
          "model_module": "@jupyter-widgets/base",
          "model_name": "LayoutModel",
          "model_module_version": "1.2.0",
          "state": {
            "_model_module": "@jupyter-widgets/base",
            "_model_module_version": "1.2.0",
            "_model_name": "LayoutModel",
            "_view_count": null,
            "_view_module": "@jupyter-widgets/base",
            "_view_module_version": "1.2.0",
            "_view_name": "LayoutView",
            "align_content": null,
            "align_items": null,
            "align_self": null,
            "border": null,
            "bottom": null,
            "display": null,
            "flex": null,
            "flex_flow": null,
            "grid_area": null,
            "grid_auto_columns": null,
            "grid_auto_flow": null,
            "grid_auto_rows": null,
            "grid_column": null,
            "grid_gap": null,
            "grid_row": null,
            "grid_template_areas": null,
            "grid_template_columns": null,
            "grid_template_rows": null,
            "height": null,
            "justify_content": null,
            "justify_items": null,
            "left": null,
            "margin": null,
            "max_height": null,
            "max_width": null,
            "min_height": null,
            "min_width": null,
            "object_fit": null,
            "object_position": null,
            "order": null,
            "overflow": null,
            "overflow_x": null,
            "overflow_y": null,
            "padding": null,
            "right": null,
            "top": null,
            "visibility": null,
            "width": null
          }
        },
        "601a3db1af01457da254be5ef3a44c0b": {
          "model_module": "@jupyter-widgets/controls",
          "model_name": "DescriptionStyleModel",
          "model_module_version": "1.5.0",
          "state": {
            "_model_module": "@jupyter-widgets/controls",
            "_model_module_version": "1.5.0",
            "_model_name": "DescriptionStyleModel",
            "_view_count": null,
            "_view_module": "@jupyter-widgets/base",
            "_view_module_version": "1.2.0",
            "_view_name": "StyleView",
            "description_width": ""
          }
        },
        "961771e8a41d41fcb2d073732c2a75bb": {
          "model_module": "@jupyter-widgets/base",
          "model_name": "LayoutModel",
          "model_module_version": "1.2.0",
          "state": {
            "_model_module": "@jupyter-widgets/base",
            "_model_module_version": "1.2.0",
            "_model_name": "LayoutModel",
            "_view_count": null,
            "_view_module": "@jupyter-widgets/base",
            "_view_module_version": "1.2.0",
            "_view_name": "LayoutView",
            "align_content": null,
            "align_items": null,
            "align_self": null,
            "border": null,
            "bottom": null,
            "display": null,
            "flex": null,
            "flex_flow": null,
            "grid_area": null,
            "grid_auto_columns": null,
            "grid_auto_flow": null,
            "grid_auto_rows": null,
            "grid_column": null,
            "grid_gap": null,
            "grid_row": null,
            "grid_template_areas": null,
            "grid_template_columns": null,
            "grid_template_rows": null,
            "height": null,
            "justify_content": null,
            "justify_items": null,
            "left": null,
            "margin": null,
            "max_height": null,
            "max_width": null,
            "min_height": null,
            "min_width": null,
            "object_fit": null,
            "object_position": null,
            "order": null,
            "overflow": null,
            "overflow_x": null,
            "overflow_y": null,
            "padding": null,
            "right": null,
            "top": null,
            "visibility": null,
            "width": null
          }
        },
        "e9b4e1fc915240d48697eedd6b7db277": {
          "model_module": "@jupyter-widgets/controls",
          "model_name": "ProgressStyleModel",
          "model_module_version": "1.5.0",
          "state": {
            "_model_module": "@jupyter-widgets/controls",
            "_model_module_version": "1.5.0",
            "_model_name": "ProgressStyleModel",
            "_view_count": null,
            "_view_module": "@jupyter-widgets/base",
            "_view_module_version": "1.2.0",
            "_view_name": "StyleView",
            "bar_color": null,
            "description_width": ""
          }
        },
        "7a4a1a4c9830405ebccae55d57d92149": {
          "model_module": "@jupyter-widgets/base",
          "model_name": "LayoutModel",
          "model_module_version": "1.2.0",
          "state": {
            "_model_module": "@jupyter-widgets/base",
            "_model_module_version": "1.2.0",
            "_model_name": "LayoutModel",
            "_view_count": null,
            "_view_module": "@jupyter-widgets/base",
            "_view_module_version": "1.2.0",
            "_view_name": "LayoutView",
            "align_content": null,
            "align_items": null,
            "align_self": null,
            "border": null,
            "bottom": null,
            "display": null,
            "flex": null,
            "flex_flow": null,
            "grid_area": null,
            "grid_auto_columns": null,
            "grid_auto_flow": null,
            "grid_auto_rows": null,
            "grid_column": null,
            "grid_gap": null,
            "grid_row": null,
            "grid_template_areas": null,
            "grid_template_columns": null,
            "grid_template_rows": null,
            "height": null,
            "justify_content": null,
            "justify_items": null,
            "left": null,
            "margin": null,
            "max_height": null,
            "max_width": null,
            "min_height": null,
            "min_width": null,
            "object_fit": null,
            "object_position": null,
            "order": null,
            "overflow": null,
            "overflow_x": null,
            "overflow_y": null,
            "padding": null,
            "right": null,
            "top": null,
            "visibility": null,
            "width": null
          }
        },
        "7c9136d3a8be433ea83ce2bce76a888b": {
          "model_module": "@jupyter-widgets/controls",
          "model_name": "DescriptionStyleModel",
          "model_module_version": "1.5.0",
          "state": {
            "_model_module": "@jupyter-widgets/controls",
            "_model_module_version": "1.5.0",
            "_model_name": "DescriptionStyleModel",
            "_view_count": null,
            "_view_module": "@jupyter-widgets/base",
            "_view_module_version": "1.2.0",
            "_view_name": "StyleView",
            "description_width": ""
          }
        },
        "7d16f804a3234ad2a87c94534f712083": {
          "model_module": "@jupyter-widgets/controls",
          "model_name": "HBoxModel",
          "model_module_version": "1.5.0",
          "state": {
            "_dom_classes": [],
            "_model_module": "@jupyter-widgets/controls",
            "_model_module_version": "1.5.0",
            "_model_name": "HBoxModel",
            "_view_count": null,
            "_view_module": "@jupyter-widgets/controls",
            "_view_module_version": "1.5.0",
            "_view_name": "HBoxView",
            "box_style": "",
            "children": [
              "IPY_MODEL_8197d700e1654763809e5bf3e55e0a32",
              "IPY_MODEL_908a1376fb5d42c69cb93889c1d2c26b",
              "IPY_MODEL_0575455401c14f338c56099b1a98f62d"
            ],
            "layout": "IPY_MODEL_05c9fc2fbc1a4de18cec7bd11f84e67b"
          }
        },
        "8197d700e1654763809e5bf3e55e0a32": {
          "model_module": "@jupyter-widgets/controls",
          "model_name": "HTMLModel",
          "model_module_version": "1.5.0",
          "state": {
            "_dom_classes": [],
            "_model_module": "@jupyter-widgets/controls",
            "_model_module_version": "1.5.0",
            "_model_name": "HTMLModel",
            "_view_count": null,
            "_view_module": "@jupyter-widgets/controls",
            "_view_module_version": "1.5.0",
            "_view_name": "HTMLView",
            "description": "",
            "description_tooltip": null,
            "layout": "IPY_MODEL_b3546922375345b98f3dd14177c9513a",
            "placeholder": "​",
            "style": "IPY_MODEL_3354425ca08c4a4590665db9a7b972b8",
            "value": "Map: 100%"
          }
        },
        "908a1376fb5d42c69cb93889c1d2c26b": {
          "model_module": "@jupyter-widgets/controls",
          "model_name": "FloatProgressModel",
          "model_module_version": "1.5.0",
          "state": {
            "_dom_classes": [],
            "_model_module": "@jupyter-widgets/controls",
            "_model_module_version": "1.5.0",
            "_model_name": "FloatProgressModel",
            "_view_count": null,
            "_view_module": "@jupyter-widgets/controls",
            "_view_module_version": "1.5.0",
            "_view_name": "ProgressView",
            "bar_style": "success",
            "description": "",
            "description_tooltip": null,
            "layout": "IPY_MODEL_5311484cf6464eada1c71b74b57e2c2a",
            "max": 132485,
            "min": 0,
            "orientation": "horizontal",
            "style": "IPY_MODEL_7a4890b5f87e490fab494b0fea20156f",
            "value": 132485
          }
        },
        "0575455401c14f338c56099b1a98f62d": {
          "model_module": "@jupyter-widgets/controls",
          "model_name": "HTMLModel",
          "model_module_version": "1.5.0",
          "state": {
            "_dom_classes": [],
            "_model_module": "@jupyter-widgets/controls",
            "_model_module_version": "1.5.0",
            "_model_name": "HTMLModel",
            "_view_count": null,
            "_view_module": "@jupyter-widgets/controls",
            "_view_module_version": "1.5.0",
            "_view_name": "HTMLView",
            "description": "",
            "description_tooltip": null,
            "layout": "IPY_MODEL_dc000ad5804a46058455d5dce5bff133",
            "placeholder": "​",
            "style": "IPY_MODEL_adb4b24df88141d592daef3836e371a5",
            "value": " 132485/132485 [01:04&lt;00:00, 1575.56 examples/s]"
          }
        },
        "05c9fc2fbc1a4de18cec7bd11f84e67b": {
          "model_module": "@jupyter-widgets/base",
          "model_name": "LayoutModel",
          "model_module_version": "1.2.0",
          "state": {
            "_model_module": "@jupyter-widgets/base",
            "_model_module_version": "1.2.0",
            "_model_name": "LayoutModel",
            "_view_count": null,
            "_view_module": "@jupyter-widgets/base",
            "_view_module_version": "1.2.0",
            "_view_name": "LayoutView",
            "align_content": null,
            "align_items": null,
            "align_self": null,
            "border": null,
            "bottom": null,
            "display": null,
            "flex": null,
            "flex_flow": null,
            "grid_area": null,
            "grid_auto_columns": null,
            "grid_auto_flow": null,
            "grid_auto_rows": null,
            "grid_column": null,
            "grid_gap": null,
            "grid_row": null,
            "grid_template_areas": null,
            "grid_template_columns": null,
            "grid_template_rows": null,
            "height": null,
            "justify_content": null,
            "justify_items": null,
            "left": null,
            "margin": null,
            "max_height": null,
            "max_width": null,
            "min_height": null,
            "min_width": null,
            "object_fit": null,
            "object_position": null,
            "order": null,
            "overflow": null,
            "overflow_x": null,
            "overflow_y": null,
            "padding": null,
            "right": null,
            "top": null,
            "visibility": null,
            "width": null
          }
        },
        "b3546922375345b98f3dd14177c9513a": {
          "model_module": "@jupyter-widgets/base",
          "model_name": "LayoutModel",
          "model_module_version": "1.2.0",
          "state": {
            "_model_module": "@jupyter-widgets/base",
            "_model_module_version": "1.2.0",
            "_model_name": "LayoutModel",
            "_view_count": null,
            "_view_module": "@jupyter-widgets/base",
            "_view_module_version": "1.2.0",
            "_view_name": "LayoutView",
            "align_content": null,
            "align_items": null,
            "align_self": null,
            "border": null,
            "bottom": null,
            "display": null,
            "flex": null,
            "flex_flow": null,
            "grid_area": null,
            "grid_auto_columns": null,
            "grid_auto_flow": null,
            "grid_auto_rows": null,
            "grid_column": null,
            "grid_gap": null,
            "grid_row": null,
            "grid_template_areas": null,
            "grid_template_columns": null,
            "grid_template_rows": null,
            "height": null,
            "justify_content": null,
            "justify_items": null,
            "left": null,
            "margin": null,
            "max_height": null,
            "max_width": null,
            "min_height": null,
            "min_width": null,
            "object_fit": null,
            "object_position": null,
            "order": null,
            "overflow": null,
            "overflow_x": null,
            "overflow_y": null,
            "padding": null,
            "right": null,
            "top": null,
            "visibility": null,
            "width": null
          }
        },
        "3354425ca08c4a4590665db9a7b972b8": {
          "model_module": "@jupyter-widgets/controls",
          "model_name": "DescriptionStyleModel",
          "model_module_version": "1.5.0",
          "state": {
            "_model_module": "@jupyter-widgets/controls",
            "_model_module_version": "1.5.0",
            "_model_name": "DescriptionStyleModel",
            "_view_count": null,
            "_view_module": "@jupyter-widgets/base",
            "_view_module_version": "1.2.0",
            "_view_name": "StyleView",
            "description_width": ""
          }
        },
        "5311484cf6464eada1c71b74b57e2c2a": {
          "model_module": "@jupyter-widgets/base",
          "model_name": "LayoutModel",
          "model_module_version": "1.2.0",
          "state": {
            "_model_module": "@jupyter-widgets/base",
            "_model_module_version": "1.2.0",
            "_model_name": "LayoutModel",
            "_view_count": null,
            "_view_module": "@jupyter-widgets/base",
            "_view_module_version": "1.2.0",
            "_view_name": "LayoutView",
            "align_content": null,
            "align_items": null,
            "align_self": null,
            "border": null,
            "bottom": null,
            "display": null,
            "flex": null,
            "flex_flow": null,
            "grid_area": null,
            "grid_auto_columns": null,
            "grid_auto_flow": null,
            "grid_auto_rows": null,
            "grid_column": null,
            "grid_gap": null,
            "grid_row": null,
            "grid_template_areas": null,
            "grid_template_columns": null,
            "grid_template_rows": null,
            "height": null,
            "justify_content": null,
            "justify_items": null,
            "left": null,
            "margin": null,
            "max_height": null,
            "max_width": null,
            "min_height": null,
            "min_width": null,
            "object_fit": null,
            "object_position": null,
            "order": null,
            "overflow": null,
            "overflow_x": null,
            "overflow_y": null,
            "padding": null,
            "right": null,
            "top": null,
            "visibility": null,
            "width": null
          }
        },
        "7a4890b5f87e490fab494b0fea20156f": {
          "model_module": "@jupyter-widgets/controls",
          "model_name": "ProgressStyleModel",
          "model_module_version": "1.5.0",
          "state": {
            "_model_module": "@jupyter-widgets/controls",
            "_model_module_version": "1.5.0",
            "_model_name": "ProgressStyleModel",
            "_view_count": null,
            "_view_module": "@jupyter-widgets/base",
            "_view_module_version": "1.2.0",
            "_view_name": "StyleView",
            "bar_color": null,
            "description_width": ""
          }
        },
        "dc000ad5804a46058455d5dce5bff133": {
          "model_module": "@jupyter-widgets/base",
          "model_name": "LayoutModel",
          "model_module_version": "1.2.0",
          "state": {
            "_model_module": "@jupyter-widgets/base",
            "_model_module_version": "1.2.0",
            "_model_name": "LayoutModel",
            "_view_count": null,
            "_view_module": "@jupyter-widgets/base",
            "_view_module_version": "1.2.0",
            "_view_name": "LayoutView",
            "align_content": null,
            "align_items": null,
            "align_self": null,
            "border": null,
            "bottom": null,
            "display": null,
            "flex": null,
            "flex_flow": null,
            "grid_area": null,
            "grid_auto_columns": null,
            "grid_auto_flow": null,
            "grid_auto_rows": null,
            "grid_column": null,
            "grid_gap": null,
            "grid_row": null,
            "grid_template_areas": null,
            "grid_template_columns": null,
            "grid_template_rows": null,
            "height": null,
            "justify_content": null,
            "justify_items": null,
            "left": null,
            "margin": null,
            "max_height": null,
            "max_width": null,
            "min_height": null,
            "min_width": null,
            "object_fit": null,
            "object_position": null,
            "order": null,
            "overflow": null,
            "overflow_x": null,
            "overflow_y": null,
            "padding": null,
            "right": null,
            "top": null,
            "visibility": null,
            "width": null
          }
        },
        "adb4b24df88141d592daef3836e371a5": {
          "model_module": "@jupyter-widgets/controls",
          "model_name": "DescriptionStyleModel",
          "model_module_version": "1.5.0",
          "state": {
            "_model_module": "@jupyter-widgets/controls",
            "_model_module_version": "1.5.0",
            "_model_name": "DescriptionStyleModel",
            "_view_count": null,
            "_view_module": "@jupyter-widgets/base",
            "_view_module_version": "1.2.0",
            "_view_name": "StyleView",
            "description_width": ""
          }
        }
      }
    }
  },
  "cells": [
    {
      "cell_type": "markdown",
      "source": [
        "This notebook is for fine-tuning a DeBERTa-v3-small model. It's reproducible if the PATHS class is set up correctly."
      ],
      "metadata": {
        "id": "-Hcw5NWH_A3d"
      }
    },
    {
      "cell_type": "code",
      "source": [
        "from google.colab import userdata\n",
        "import os\n",
        "\n",
        "os.environ[\"KAGGLE_KEY\"] = userdata.get('KAGGLE_KEY')\n",
        "os.environ[\"KAGGLE_USERNAME\"] = userdata.get('KAGGLE_USERNAME')"
      ],
      "metadata": {
        "id": "gniDqR2vZUkD"
      },
      "execution_count": 1,
      "outputs": []
    },
    {
      "cell_type": "code",
      "source": [
        "from google.colab import drive\n",
        "drive.mount('/content/drive')"
      ],
      "metadata": {
        "id": "fkDI-VW5ALge"
      },
      "execution_count": null,
      "outputs": []
    },
    {
      "cell_type": "markdown",
      "source": [
        "# Download Data"
      ],
      "metadata": {
        "id": "vDsg67Hd0lcw"
      }
    },
    {
      "cell_type": "code",
      "execution_count": null,
      "metadata": {
        "id": "mQbCtd6pY33a"
      },
      "outputs": [],
      "source": [
        "!kaggle competitions download -c jigsaw-unintended-bias-in-toxicity-classification\n",
        "!yes | unzip jigsaw-unintended-bias-in-toxicity-classification.zip\n",
        "!rm jigsaw-unintended-bias-in-toxicity-classification.zip"
      ]
    },
    {
      "cell_type": "code",
      "source": [
        "!pip install datasets\n",
        "!pip install scikit-multilearn"
      ],
      "metadata": {
        "id": "5pvZlVtkUe1Y"
      },
      "execution_count": null,
      "outputs": []
    },
    {
      "cell_type": "markdown",
      "source": [
        "# Set up"
      ],
      "metadata": {
        "id": "pn8BTOFu5KS7"
      }
    },
    {
      "cell_type": "code",
      "source": [
        "import os\n",
        "os.environ['CUDA_VISIBLE_DEVICES']='0,1'\n",
        "import warnings\n",
        "import numpy as np, pandas as pd\n",
        "import random\n",
        "import torch\n",
        "from skmultilearn.model_selection import iterative_train_test_split\n",
        "from transformers import AutoTokenizer, AutoModelForSequenceClassification, AutoConfig\n",
        "from transformers import TrainingArguments, Trainer\n",
        "from transformers import DataCollatorWithPadding\n",
        "from datasets import Dataset\n",
        "import matplotlib.pyplot as plt\n",
        "import seaborn as sns\n",
        "warnings.simplefilter('ignore')"
      ],
      "metadata": {
        "id": "M4ckzVbbbzZm"
      },
      "execution_count": 6,
      "outputs": []
    },
    {
      "cell_type": "code",
      "source": [
        "class PATHS:\n",
        "    save = '/content/drive/MyDrive'\n",
        "    fs = f'{save}/few_shot_labeled.tsv'\n",
        "    sw = f'{save}/sw_labeled.tsv'\n",
        "    ar = f'{save}/ar_labeled.tsv'\n",
        "    arc = f'{save}/arc_labeled.tsv'\n",
        "    toxic = f'{save}/toxic_labeled.tsv'\n",
        "    ab = f'{save}/ab_labeled.tsv'\n",
        "    toxic_train = 'train.csv'\n",
        "    final_train = f'{save}/harm_train.tsv'\n",
        "    final_test = f'{save}/harm_test.tsv'\n",
        "    save_model_prep = f'{save}/harm-deberta-v3-small_prep'\n",
        "    save_model = f'{save}/harm-deberta-v3-small'"
      ],
      "metadata": {
        "id": "fMu9AWgSykAi"
      },
      "execution_count": 7,
      "outputs": []
    },
    {
      "cell_type": "code",
      "source": [
        "class CFG:\n",
        "    model_name = 'microsoft/deberta-v3-small'\n",
        "    seed = 42\n",
        "    max_length = 512\n",
        "    lr = 1e-5\n",
        "    train_batch_size = 32\n",
        "    train_epochs = 4\n",
        "    weight_decay = 0.01\n",
        "    warmup_ratio = 0.0\n",
        "    labels = ['self_harm', 'harming_others', 'harmed_by_others','reference_to_harm']"
      ],
      "metadata": {
        "id": "YZuqO0xi476P"
      },
      "execution_count": 8,
      "outputs": []
    },
    {
      "cell_type": "code",
      "source": [
        "def seed_everything(seed):\n",
        "    random.seed(seed)\n",
        "    os.environ['PYTHONHASHSEED'] = str(seed)\n",
        "    np.random.seed(seed)\n",
        "    torch.manual_seed(seed)\n",
        "    torch.cuda.manual_seed(seed)\n",
        "    torch.backends.cudnn.deterministic = True\n",
        "    torch.backends.cudnn.benchmark = True\n",
        "seed_everything(42)"
      ],
      "metadata": {
        "id": "6GFZWCs05Qk6"
      },
      "execution_count": 9,
      "outputs": []
    },
    {
      "cell_type": "markdown",
      "source": [
        "# Load Data"
      ],
      "metadata": {
        "id": "15ZLBej05TVP"
      }
    },
    {
      "cell_type": "markdown",
      "source": [
        "The positive data set consists of data sets with positive data for labels 'self_harm', 'harming_others', 'harmed_by_others', or 'reference_to_harm'. They consists of few shot dataset, suicide watch dataset, abusive relationship dataset, abusive relationship comments dataset, toxic dataset, and all beauty dataset."
      ],
      "metadata": {
        "id": "PlrgMp73mqpk"
      }
    },
    {
      "cell_type": "code",
      "source": [
        "fs_df = pd.read_csv(PATHS.fs, sep='\\t', dtype={'id': 'string'})\n",
        "sw_df = pd.read_csv(PATHS.sw, sep='\\t', dtype={'id': 'string'})\n",
        "ar_df = pd.read_csv(PATHS.ar, sep='\\t', dtype={'id': 'string'})\n",
        "arc_df = pd.read_csv(PATHS.arc, sep='\\t', dtype={'id': 'string'})\n",
        "toxic_df = pd.read_csv(PATHS.toxic, sep='\\t', dtype={'id': 'string'})\n",
        "ab_df = pd.read_csv(PATHS.ab, sep='\\t', dtype={'id': 'string'})\n",
        "pos_dfs = [fs_df, sw_df, ar_df, arc_df, toxic_df, ab_df]\n",
        "pos_names = ['few shot dataset', 'suicide watch dataset', 'abusive relationship dataset', 'abusive relationship comments dataset', 'toxic dataset', 'all beauty dataset']\n",
        "pos_df = pd.concat(pos_dfs)"
      ],
      "metadata": {
        "id": "MDQZE84fs77w"
      },
      "execution_count": 10,
      "outputs": []
    },
    {
      "cell_type": "code",
      "source": [
        "for df, name in zip(pos_dfs, pos_names):\n",
        "    print(f\"Numer of samples in {name} = {len(df)}\")"
      ],
      "metadata": {
        "colab": {
          "base_uri": "https://localhost:8080/"
        },
        "id": "fbAKx_jh164w",
        "outputId": "a9d3cb15-5236-4b3a-9ec7-b709b526725f"
      },
      "execution_count": 11,
      "outputs": [
        {
          "output_type": "stream",
          "name": "stdout",
          "text": [
            "Numer of samples in few shot dataset = 64\n",
            "Numer of samples in suicide watch dataset = 5561\n",
            "Numer of samples in abusive relationship dataset = 9502\n",
            "Numer of samples in abusive relationship comments dataset = 7495\n",
            "Numer of samples in toxic dataset = 9226\n",
            "Numer of samples in all beauty dataset = 5371\n"
          ]
        }
      ]
    },
    {
      "cell_type": "code",
      "source": [
        "sns.set(font_scale=0.75)\n",
        "for df, name in zip(pos_dfs, pos_names):\n",
        "    plt.figure(figsize=(6, 3))\n",
        "    plt.ylim(0, 100)\n",
        "    plt.title(f\"Percentage of positive data for {name}, by label\")\n",
        "    sns.barplot(x=CFG.labels, y=[sum(df[label] == 1)/len(df) * 100 for label in CFG.labels])\n",
        "    plt.ylabel(\"Percentage of positive data\")"
      ],
      "metadata": {
        "colab": {
          "base_uri": "https://localhost:8080/",
          "height": 1000
        },
        "id": "W2uDo72av8dt",
        "outputId": "de2fe6b9-8048-4b32-d430-c02bdf21ec48"
      },
      "execution_count": 12,
      "outputs": [
        {
          "output_type": "display_data",
          "data": {
            "text/plain": [
              "<Figure size 600x300 with 1 Axes>"
            ],
            "image/png": "[encoded data removed]"
          },
          "metadata": {}
        },
        {
          "output_type": "display_data",
          "data": {
            "text/plain": [
              "<Figure size 600x300 with 1 Axes>"
            ],
            "image/png": "[encoded data removed]"
          },
          "metadata": {}
        },
        {
          "output_type": "display_data",
          "data": {
            "text/plain": [
              "<Figure size 600x300 with 1 Axes>"
            ],
            "image/png": "[encoded data removed]"
          },
          "metadata": {}
        },
        {
          "output_type": "display_data",
          "data": {
            "text/plain": [
              "<Figure size 600x300 with 1 Axes>"
            ],
            "image/png": "[encoded data removed]"
          },
          "metadata": {}
        },
        {
          "output_type": "display_data",
          "data": {
            "text/plain": [
              "<Figure size 600x300 with 1 Axes>"
            ],
            "image/png": "[encoded data removed]"
          },
          "metadata": {}
        },
        {
          "output_type": "display_data",
          "data": {
            "text/plain": [
              "<Figure size 600x300 with 1 Axes>"
            ],
            "image/png": "[encoded data removed]"
          },
          "metadata": {}
        }
      ]
    },
    {
      "cell_type": "code",
      "source": [
        "print(f\"Number of total no harm = {sum((pos_df['self_harm'] == 0) & (pos_df['harming_others'] == 0) & (pos_df['harmed_by_others'] == 0) & (pos_df['reference_to_harm'] == 0))}\")\n",
        "for label in CFG.labels:\n",
        "    print(f\"Number of total {label} = {sum(pos_df[label] == 1)}\")"
      ],
      "metadata": {
        "colab": {
          "base_uri": "https://localhost:8080/"
        },
        "id": "7-mq2w4d9Ews",
        "outputId": "d87a68b0-766f-4773-947a-52c68b916ab6"
      },
      "execution_count": 13,
      "outputs": [
        {
          "output_type": "stream",
          "name": "stdout",
          "text": [
            "Number of total no harm = 17799\n",
            "Number of total self_harm = 3125\n",
            "Number of total harming_others = 8305\n",
            "Number of total harmed_by_others = 5585\n",
            "Number of total reference_to_harm = 3402\n"
          ]
        }
      ]
    },
    {
      "cell_type": "code",
      "source": [
        "sns.set(font_scale=0.75)\n",
        "plt.figure(figsize=(6, 3))\n",
        "plt.ylim(0, 100)\n",
        "plt.title(f\"Percentage of positive data in total, by label\")\n",
        "sns.barplot(x=CFG.labels, y=[sum(pos_df[label] == 1)/len(pos_df) * 100 for label in CFG.labels])\n",
        "plt.ylabel(\"Percentage of positive data\")"
      ],
      "metadata": {
        "colab": {
          "base_uri": "https://localhost:8080/",
          "height": 328
        },
        "id": "3czA8aUp8Ut2",
        "outputId": "51910b0c-18b5-4187-8527-167438133b22"
      },
      "execution_count": 14,
      "outputs": [
        {
          "output_type": "execute_result",
          "data": {
            "text/plain": [
              "Text(0, 0.5, 'Percentage of positive data')"
            ]
          },
          "metadata": {},
          "execution_count": 14
        },
        {
          "output_type": "display_data",
          "data": {
            "text/plain": [
              "<Figure size 600x300 with 1 Axes>"
            ],
            "image/png": "[encoded data removed]"
          },
          "metadata": {}
        }
      ]
    },
    {
      "cell_type": "markdown",
      "source": [
        "The negative data set consists of data with 0 'toxicity' from the toxic data set. Even though I'd like to label them 0 in all harm labels, some of them have positive 'harmed_by_others' or 'reference_to_harm'. I go through a \"prep training\" process to filter them out."
      ],
      "metadata": {
        "id": "YkKft3JnnsJz"
      }
    },
    {
      "cell_type": "code",
      "source": [
        "toxic_train_df = pd.read_csv(PATHS.toxic_train, dtype={'id': 'string'})"
      ],
      "metadata": {
        "id": "ZRJi1ghb5RhT"
      },
      "execution_count": 15,
      "outputs": []
    },
    {
      "cell_type": "code",
      "source": [
        "neg_df = toxic_train_df.loc[toxic_train_df['target'] == 0].dropna()\n",
        "neg_df = neg_df.rename(columns={'comment_text': 'text'})[['id', 'text']]\n",
        "neg_df['text'] = neg_df['text'].str.replace('\\n', ' ')\n",
        "neg_df[CFG.labels] = [0, 0, 0, 0]"
      ],
      "metadata": {
        "id": "ES0tgusZ2zoX"
      },
      "execution_count": 16,
      "outputs": []
    },
    {
      "cell_type": "code",
      "source": [
        "train_df = pd.concat([pos_df, neg_df])"
      ],
      "metadata": {
        "id": "V1_wXLn55jHX"
      },
      "execution_count": 17,
      "outputs": []
    },
    {
      "cell_type": "markdown",
      "source": [
        "# Train Test Split"
      ],
      "metadata": {
        "id": "Arg-i4tG_A5K"
      }
    },
    {
      "cell_type": "code",
      "source": [
        "X = train_df\n",
        "y = train_df[CFG.labels]"
      ],
      "metadata": {
        "id": "7Oa4UopT_qgu"
      },
      "execution_count": 18,
      "outputs": []
    },
    {
      "cell_type": "code",
      "source": [
        "X_train, y_train, X_test, y_test = iterative_train_test_split(X.to_numpy(), y.to_numpy(), test_size=0.1)"
      ],
      "metadata": {
        "id": "wSMOQOSUADFM"
      },
      "execution_count": 19,
      "outputs": []
    },
    {
      "cell_type": "code",
      "source": [
        "train = pd.DataFrame(X_train, columns=(['id', 'text']+CFG.labels))\n",
        "test = pd.DataFrame(X_test, columns=(['id', 'text']+CFG.labels))"
      ],
      "metadata": {
        "id": "yOomapuwDDwO"
      },
      "execution_count": 20,
      "outputs": []
    },
    {
      "cell_type": "markdown",
      "source": [
        "# Tokenize Prep Train"
      ],
      "metadata": {
        "id": "3UsQpIvBO0Wn"
      }
    },
    {
      "cell_type": "markdown",
      "source": [
        "pos_train are the part of the training split that belong to the original positive data set. In other words, they're what's left after I remove the 0 toxic data from the train split. I carry out a \"prep training\" based on this smaller set of training data."
      ],
      "metadata": {
        "id": "IUp9Rzw0ol9D"
      }
    },
    {
      "cell_type": "code",
      "source": [
        "pos_train = train[train['id'].isin(pos_df['id'])]"
      ],
      "metadata": {
        "id": "iL9Jl82KOg2S"
      },
      "execution_count": 21,
      "outputs": []
    },
    {
      "cell_type": "code",
      "source": [
        "tokenizer = AutoTokenizer.from_pretrained(CFG.model_name)"
      ],
      "metadata": {
        "id": "qb8AxmbxO0Wn"
      },
      "execution_count": 22,
      "outputs": []
    },
    {
      "cell_type": "code",
      "source": [
        "def tokenize_function(batch):\n",
        "    tokenized_inputs = tokenizer(\n",
        "        batch['text'],\n",
        "        padding=True,\n",
        "        truncation=True,\n",
        "        max_length=CFG.max_length,\n",
        "    )\n",
        "    batch_labels = {label: batch[label] for label in CFG.labels}\n",
        "    matrix_labels = np.zeros((len(batch['text']), len(CFG.labels)))\n",
        "    for i, label in enumerate(CFG.labels):\n",
        "        matrix_labels[:, i] = batch_labels[label]\n",
        "    tokenized_inputs['labels'] = matrix_labels\n",
        "    return tokenized_inputs"
      ],
      "metadata": {
        "id": "qwIBopiWO0Wo"
      },
      "execution_count": 23,
      "outputs": []
    },
    {
      "cell_type": "code",
      "source": [
        "pos_train_dict = {}\n",
        "for col in ['id', 'text'] + CFG.labels:\n",
        "    pos_train_dict[col] = pos_train[col].tolist()"
      ],
      "metadata": {
        "id": "h5J9P_tGO0Wo"
      },
      "execution_count": 24,
      "outputs": []
    },
    {
      "cell_type": "code",
      "source": [
        "pos_train_ds = Dataset.from_dict(pos_train_dict)\n",
        "tokenized_pos_train_ds = pos_train_ds.map(tokenize_function, batched=True)\n",
        "tokenized_pos_train_ds.set_format('torch')"
      ],
      "metadata": {
        "colab": {
          "base_uri": "https://localhost:8080/",
          "height": 49,
          "referenced_widgets": [
            "280bd1a03cb6460294af18b84b6139d6",
            "04cb67a349b943a090cfbd13e55da00a",
            "d386a69327704cb78e2fc8c134973800",
            "3a0a7b8517044fa89e90e088c1146f38",
            "997694def7024575881db6438d51d64d",
            "c28eae79a1ae4ac58edc8eddad6d72d2",
            "94bcd8d075b043b1af53c5c4f7ec5d1d",
            "6d037b10fa114919abd3d169b5667b7e",
            "fc6c3c7185a94096a273437224bf1986",
            "b311d63e636c42679d527f1a83c810a1",
            "7de5ada25aec49638495f1adbf43d889"
          ]
        },
        "outputId": "a0436195-490b-41b1-a7ab-a63f99d9fd53",
        "id": "PAFPY_OVO0Wp"
      },
      "execution_count": 25,
      "outputs": [
        {
          "output_type": "display_data",
          "data": {
            "text/plain": [
              "Map:   0%|          | 0/35275 [00:00<?, ? examples/s]"
            ],
            "application/vnd.jupyter.widget-view+json": {
              "version_major": 2,
              "version_minor": 0,
              "model_id": "280bd1a03cb6460294af18b84b6139d6"
            }
          },
          "metadata": {}
        }
      ]
    },
    {
      "cell_type": "code",
      "source": [
        "id2label = {i: label for i, label in enumerate(CFG.labels)}\n",
        "label2id = {label: i for i, label in enumerate(CFG.labels)}"
      ],
      "metadata": {
        "id": "PjzHv-ppO0Wp"
      },
      "execution_count": 26,
      "outputs": []
    },
    {
      "cell_type": "markdown",
      "source": [
        "# Prep Training"
      ],
      "metadata": {
        "id": "owD7Y50qO0Wq"
      }
    },
    {
      "cell_type": "code",
      "source": [
        "config = AutoConfig.from_pretrained(CFG.model_name)\n",
        "config.num_labels = len(CFG.labels)\n",
        "config.problem_type = 'multi_label_classification'\n",
        "config.id2label = id2label\n",
        "config.label2id = label2id\n",
        "model = AutoModelForSequenceClassification.from_pretrained(CFG.model_name, config=config)\n",
        "model.resize_token_embeddings(len(tokenizer))"
      ],
      "metadata": {
        "colab": {
          "base_uri": "https://localhost:8080/"
        },
        "outputId": "48528994-427d-4c11-c88f-11b8d8212875",
        "id": "XtnNkvd0O0Wq"
      },
      "execution_count": 27,
      "outputs": [
        {
          "output_type": "stream",
          "name": "stderr",
          "text": [
            "Some weights of DebertaV2ForSequenceClassification were not initialized from the model checkpoint at microsoft/deberta-v3-small and are newly initialized: ['classifier.bias', 'classifier.weight', 'pooler.dense.bias', 'pooler.dense.weight']\n",
            "You should probably TRAIN this model on a down-stream task to be able to use it for predictions and inference.\n"
          ]
        },
        {
          "output_type": "execute_result",
          "data": {
            "text/plain": [
              "Embedding(128001, 768, padding_idx=0)"
            ]
          },
          "metadata": {},
          "execution_count": 27
        }
      ]
    },
    {
      "cell_type": "code",
      "source": [
        "training_args = TrainingArguments(\n",
        "    output_dir='output',\n",
        "    fp16=True,\n",
        "    learning_rate=CFG.lr,\n",
        "    per_device_train_batch_size=CFG.train_batch_size,\n",
        "    num_train_epochs=CFG.train_epochs,\n",
        "    weight_decay=CFG.weight_decay,\n",
        "    save_strategy='epoch',\n",
        "    save_total_limit=1,\n",
        "    report_to='none',\n",
        "    warmup_ratio=CFG.warmup_ratio,\n",
        "    lr_scheduler_type='linear',\n",
        "    optim='adamw_torch',\n",
        "    logging_first_step=True,\n",
        ")\n",
        "trainer = Trainer(\n",
        "    model=model,\n",
        "    args=training_args,\n",
        "    train_dataset=tokenized_pos_train_ds,\n",
        "    tokenizer=tokenizer,\n",
        ")"
      ],
      "metadata": {
        "id": "3vZVWWcpO0Wq"
      },
      "execution_count": 28,
      "outputs": []
    },
    {
      "cell_type": "code",
      "source": [
        "trainer.train()"
      ],
      "metadata": {
        "colab": {
          "base_uri": "https://localhost:8080/",
          "height": 394
        },
        "outputId": "1cf9c02f-15cb-47f3-ee21-6cc38ac7eb36",
        "id": "wiJo-9MaO0Wq"
      },
      "execution_count": 29,
      "outputs": [
        {
          "output_type": "display_data",
          "data": {
            "text/plain": [
              "<IPython.core.display.HTML object>"
            ],
            "text/html": [
              "\n",
              "    <div>\n",
              "      \n",
              "      <progress value='4412' max='4412' style='width:300px; height:20px; vertical-align: middle;'></progress>\n",
              "      [4412/4412 1:16:21, Epoch 4/4]\n",
              "    </div>\n",
              "    <table border=\"1\" class=\"dataframe\">\n",
              "  <thead>\n",
              " <tr style=\"text-align: left;\">\n",
              "      <th>Step</th>\n",
              "      <th>Training Loss</th>\n",
              "    </tr>\n",
              "  </thead>\n",
              "  <tbody>\n",
              "    <tr>\n",
              "      <td>1</td>\n",
              "      <td>0.680300</td>\n",
              "    </tr>\n",
              "    <tr>\n",
              "      <td>500</td>\n",
              "      <td>0.253500</td>\n",
              "    </tr>\n",
              "    <tr>\n",
              "      <td>1000</td>\n",
              "      <td>0.144400</td>\n",
              "    </tr>\n",
              "    <tr>\n",
              "      <td>1500</td>\n",
              "      <td>0.122400</td>\n",
              "    </tr>\n",
              "    <tr>\n",
              "      <td>2000</td>\n",
              "      <td>0.118000</td>\n",
              "    </tr>\n",
              "    <tr>\n",
              "      <td>2500</td>\n",
              "      <td>0.106600</td>\n",
              "    </tr>\n",
              "    <tr>\n",
              "      <td>3000</td>\n",
              "      <td>0.102300</td>\n",
              "    </tr>\n",
              "    <tr>\n",
              "      <td>3500</td>\n",
              "      <td>0.095900</td>\n",
              "    </tr>\n",
              "    <tr>\n",
              "      <td>4000</td>\n",
              "      <td>0.089400</td>\n",
              "    </tr>\n",
              "  </tbody>\n",
              "</table><p>"
            ]
          },
          "metadata": {}
        },
        {
          "output_type": "execute_result",
          "data": {
            "text/plain": [
              "TrainOutput(global_step=4412, training_loss=0.12554792207365995, metrics={'train_runtime': 4584.1304, 'train_samples_per_second': 30.78, 'train_steps_per_second': 0.962, 'total_flos': 1.86924824039424e+16, 'train_loss': 0.12554792207365995, 'epoch': 4.0})"
            ]
          },
          "metadata": {},
          "execution_count": 29
        }
      ]
    },
    {
      "cell_type": "code",
      "source": [
        "trainer.save_model(PATHS.save_model_prep)"
      ],
      "metadata": {
        "id": "pqD5-hOlO0Wq"
      },
      "execution_count": 30,
      "outputs": []
    },
    {
      "cell_type": "markdown",
      "source": [
        "# Inference on the Negative Set (0 Toxic Data Set)\n",
        "\n",
        "\n"
      ],
      "metadata": {
        "id": "aOR3t-8tVOaj"
      }
    },
    {
      "cell_type": "markdown",
      "source": [
        "The negative data set (0 toxic data set) in fact contains some positive data in 'harmed_by_others' or 'reference_to_harm' labels. We run inference on them using the \"prep training\" model, and filter out the data that are positive in the harm labels."
      ],
      "metadata": {
        "id": "w0-b2Ofnk1-i"
      }
    },
    {
      "cell_type": "code",
      "source": [
        "sigmoid = torch.nn.Sigmoid()"
      ],
      "metadata": {
        "id": "KFbJwuR7Xoth"
      },
      "execution_count": 31,
      "outputs": []
    },
    {
      "cell_type": "code",
      "source": [
        "neg_dict = {}\n",
        "for col in ['id', 'text'] + CFG.labels:\n",
        "    neg_dict[col] = neg_df[col].tolist()"
      ],
      "metadata": {
        "id": "fL_707SrWZ4f"
      },
      "execution_count": 32,
      "outputs": []
    },
    {
      "cell_type": "code",
      "source": [
        "neg_ds = Dataset.from_dict(neg_dict)\n",
        "tokenized_neg_ds = neg_ds.map(tokenize_function, batched=True)\n",
        "tokenized_neg_ds.set_format('torch')"
      ],
      "metadata": {
        "colab": {
          "base_uri": "https://localhost:8080/",
          "height": 49,
          "referenced_widgets": [
            "63bbd2367fe84975a2321df85a8a2570",
            "0dd4b6c3220e4e61a2115779e37de75b",
            "86e78238cdad49ffb36fd17bfed291f0",
            "cc38372dd02f453e9131a9be2276117e",
            "7376985aa9df46afa0bf388f7198abea",
            "c10b245771534e9986f2a2de7202d8c6",
            "601a3db1af01457da254be5ef3a44c0b",
            "961771e8a41d41fcb2d073732c2a75bb",
            "e9b4e1fc915240d48697eedd6b7db277",
            "7a4a1a4c9830405ebccae55d57d92149",
            "7c9136d3a8be433ea83ce2bce76a888b"
          ]
        },
        "id": "ri3uQIkz37ra",
        "outputId": "9ba7259f-1ef9-4ddd-fa62-9d3a5fc5203e"
      },
      "execution_count": 33,
      "outputs": [
        {
          "output_type": "display_data",
          "data": {
            "text/plain": [
              "Map:   0%|          | 0/144210 [00:00<?, ? examples/s]"
            ],
            "application/vnd.jupyter.widget-view+json": {
              "version_major": 2,
              "version_minor": 0,
              "model_id": "63bbd2367fe84975a2321df85a8a2570"
            }
          },
          "metadata": {}
        }
      ]
    },
    {
      "cell_type": "code",
      "source": [
        "neg_pred = trainer.predict(tokenized_neg_ds)"
      ],
      "metadata": {
        "colab": {
          "base_uri": "https://localhost:8080/",
          "height": 17
        },
        "id": "YSN7Bpy2WxRL",
        "outputId": "63bb44eb-3fa3-4574-eaaa-2620f4a9875e"
      },
      "execution_count": 34,
      "outputs": [
        {
          "output_type": "display_data",
          "data": {
            "text/plain": [
              "<IPython.core.display.HTML object>"
            ],
            "text/html": []
          },
          "metadata": {}
        }
      ]
    },
    {
      "cell_type": "code",
      "source": [
        "neg_proba = sigmoid(torch.Tensor(neg_pred.predictions)).numpy()\n",
        "neg_pred = np.where(neg_proba >= 0.5, 1, 0)"
      ],
      "metadata": {
        "id": "Q4j66cJLXTD8"
      },
      "execution_count": 35,
      "outputs": []
    },
    {
      "cell_type": "code",
      "source": [
        "neg_df[[label+'_pred' for label in CFG.labels]] = neg_pred\n",
        "mask = ( (neg_df['self_harm'] != neg_df['self_harm_pred']) | (neg_df['harming_others'] != neg_df['harming_others_pred']) |\n",
        "         (neg_df['harmed_by_others'] != neg_df['harmed_by_others_pred']) | (neg_df['reference_to_harm'] != neg_df['reference_to_harm_pred']) )"
      ],
      "metadata": {
        "id": "HI2vEWGFXbEQ"
      },
      "execution_count": 36,
      "outputs": []
    },
    {
      "cell_type": "code",
      "source": [
        "neg_drop_df = neg_df[mask]\n",
        "train = train[~train['id'].isin(neg_drop_df['id'])]\n",
        "test = test[~test['id'].isin(neg_drop_df['id'])]"
      ],
      "metadata": {
        "id": "MrNDlYT4ZIE6"
      },
      "execution_count": 38,
      "outputs": []
    },
    {
      "cell_type": "markdown",
      "source": [
        "Write filtered training and test"
      ],
      "metadata": {
        "id": "dBn4iqBuR6Ao"
      }
    },
    {
      "cell_type": "code",
      "source": [
        "for label in CFG.labels:\n",
        "    print(f\"{label}: positives in training = {sum(train[label] == 1)}, positives in test = {sum(test[label] == 1)}\")"
      ],
      "metadata": {
        "colab": {
          "base_uri": "https://localhost:8080/"
        },
        "id": "D3jvKe0yDtsP",
        "outputId": "986d063a-6008-4e75-8e9e-83bdf1198f23"
      },
      "execution_count": 39,
      "outputs": [
        {
          "output_type": "stream",
          "name": "stdout",
          "text": [
            "self_harm: positives in training = 2813, positives in test = 312\n",
            "harming_others: positives in training = 7475, positives in test = 830\n",
            "harmed_by_others: positives in training = 5027, positives in test = 558\n",
            "reference_to_harm: positives in training = 3062, positives in test = 340\n"
          ]
        }
      ]
    },
    {
      "cell_type": "code",
      "source": [
        "train.to_csv(PATHS.final_train, sep='\\t', index=False)\n",
        "test.to_csv(PATHS.final_test, sep='\\t', index=False)"
      ],
      "metadata": {
        "id": "TQcXnsoaRCHu"
      },
      "execution_count": 40,
      "outputs": []
    },
    {
      "cell_type": "code",
      "source": [
        "print(len(train), len(test))"
      ],
      "metadata": {
        "colab": {
          "base_uri": "https://localhost:8080/"
        },
        "id": "Z6AOBx3AmhOM",
        "outputId": "3663a403-07e5-4706-cf0e-b0f945788cdb"
      },
      "execution_count": 41,
      "outputs": [
        {
          "output_type": "stream",
          "name": "stdout",
          "text": [
            "132485 14266\n"
          ]
        }
      ]
    },
    {
      "cell_type": "markdown",
      "source": [
        "# Tokenize Train"
      ],
      "metadata": {
        "id": "gOJNfxsG7n2N"
      }
    },
    {
      "cell_type": "markdown",
      "source": [
        "Now we carry out the final tokenization and training on the filtered training set."
      ],
      "metadata": {
        "id": "Ik3un1n-psDj"
      }
    },
    {
      "cell_type": "code",
      "source": [
        "train = pd.read_csv(PATHS.final_train, sep='\\t', dtype={'id': 'string'})"
      ],
      "metadata": {
        "id": "L7aqCjuJeSVY"
      },
      "execution_count": 42,
      "outputs": []
    },
    {
      "cell_type": "code",
      "source": [
        "tokenizer = AutoTokenizer.from_pretrained(CFG.model_name)"
      ],
      "metadata": {
        "id": "mpold922Uymu"
      },
      "execution_count": 43,
      "outputs": []
    },
    {
      "cell_type": "code",
      "source": [
        "def tokenize_function(batch):\n",
        "    tokenized_inputs = tokenizer(\n",
        "        batch['text'],\n",
        "        padding=True,\n",
        "        truncation=True,\n",
        "        max_length=CFG.max_length,\n",
        "    )\n",
        "    batch_labels = {label: batch[label] for label in CFG.labels}\n",
        "    matrix_labels = np.zeros((len(batch['text']), len(CFG.labels)))\n",
        "    for i, label in enumerate(CFG.labels):\n",
        "        matrix_labels[:, i] = batch_labels[label]\n",
        "    tokenized_inputs['labels'] = matrix_labels\n",
        "    return tokenized_inputs"
      ],
      "metadata": {
        "id": "KdvuYQE0U2tu"
      },
      "execution_count": 44,
      "outputs": []
    },
    {
      "cell_type": "code",
      "source": [
        "train_dict = {}\n",
        "for col in ['id', 'text'] + CFG.labels:\n",
        "    train_dict[col] = train[col].tolist()"
      ],
      "metadata": {
        "id": "csB0e4OoEpkM"
      },
      "execution_count": 45,
      "outputs": []
    },
    {
      "cell_type": "code",
      "source": [
        "train_ds = Dataset.from_dict(train_dict)\n",
        "tokenized_train_ds = train_ds.map(tokenize_function, batched=True)\n",
        "tokenized_train_ds.set_format('torch')"
      ],
      "metadata": {
        "colab": {
          "base_uri": "https://localhost:8080/",
          "height": 49,
          "referenced_widgets": [
            "7d16f804a3234ad2a87c94534f712083",
            "8197d700e1654763809e5bf3e55e0a32",
            "908a1376fb5d42c69cb93889c1d2c26b",
            "0575455401c14f338c56099b1a98f62d",
            "05c9fc2fbc1a4de18cec7bd11f84e67b",
            "b3546922375345b98f3dd14177c9513a",
            "3354425ca08c4a4590665db9a7b972b8",
            "5311484cf6464eada1c71b74b57e2c2a",
            "7a4890b5f87e490fab494b0fea20156f",
            "dc000ad5804a46058455d5dce5bff133",
            "adb4b24df88141d592daef3836e371a5"
          ]
        },
        "id": "sneB90Ml7qHb",
        "outputId": "20df7915-cb22-4db3-8659-c9067dbe0e20"
      },
      "execution_count": 46,
      "outputs": [
        {
          "output_type": "display_data",
          "data": {
            "text/plain": [
              "Map:   0%|          | 0/132485 [00:00<?, ? examples/s]"
            ],
            "application/vnd.jupyter.widget-view+json": {
              "version_major": 2,
              "version_minor": 0,
              "model_id": "7d16f804a3234ad2a87c94534f712083"
            }
          },
          "metadata": {}
        }
      ]
    },
    {
      "cell_type": "code",
      "source": [
        "id2label = {i: label for i, label in enumerate(CFG.labels)}\n",
        "label2id = {label: i for i, label in enumerate(CFG.labels)}"
      ],
      "metadata": {
        "id": "TMxWTuctFzI6"
      },
      "execution_count": 47,
      "outputs": []
    },
    {
      "cell_type": "markdown",
      "source": [
        "# Training"
      ],
      "metadata": {
        "id": "Mn-HQc5p75yC"
      }
    },
    {
      "cell_type": "code",
      "source": [
        "config = AutoConfig.from_pretrained(CFG.model_name)\n",
        "config.num_labels = len(CFG.labels)\n",
        "config.problem_type = 'multi_label_classification'\n",
        "config.id2label = id2label\n",
        "config.label2id = label2id\n",
        "model = AutoModelForSequenceClassification.from_pretrained(CFG.model_name, config=config)\n",
        "model.resize_token_embeddings(len(tokenizer))"
      ],
      "metadata": {
        "colab": {
          "base_uri": "https://localhost:8080/"
        },
        "id": "k0JXtFCM78hj",
        "outputId": "1c004cdf-2261-43d7-b644-9fce13fdb6b1"
      },
      "execution_count": 48,
      "outputs": [
        {
          "output_type": "stream",
          "name": "stderr",
          "text": [
            "Some weights of DebertaV2ForSequenceClassification were not initialized from the model checkpoint at microsoft/deberta-v3-small and are newly initialized: ['classifier.bias', 'classifier.weight', 'pooler.dense.bias', 'pooler.dense.weight']\n",
            "You should probably TRAIN this model on a down-stream task to be able to use it for predictions and inference.\n"
          ]
        },
        {
          "output_type": "execute_result",
          "data": {
            "text/plain": [
              "Embedding(128001, 768, padding_idx=0)"
            ]
          },
          "metadata": {},
          "execution_count": 48
        }
      ]
    },
    {
      "cell_type": "code",
      "source": [
        "training_args = TrainingArguments(\n",
        "    output_dir='output',\n",
        "    fp16=True,\n",
        "    learning_rate=CFG.lr,\n",
        "    per_device_train_batch_size=CFG.train_batch_size,\n",
        "    num_train_epochs=CFG.train_epochs,\n",
        "    weight_decay=CFG.weight_decay,\n",
        "    save_strategy='epoch',\n",
        "    save_total_limit=1,\n",
        "    report_to='none',\n",
        "    warmup_ratio=CFG.warmup_ratio,\n",
        "    lr_scheduler_type='linear',\n",
        "    optim='adamw_torch',\n",
        "    logging_first_step=True,\n",
        ")\n",
        "trainer = Trainer(\n",
        "    model=model,\n",
        "    args=training_args,\n",
        "    train_dataset=tokenized_train_ds,\n",
        "    tokenizer=tokenizer,\n",
        ")"
      ],
      "metadata": {
        "id": "rdEaSf0m8ZLU"
      },
      "execution_count": 49,
      "outputs": []
    },
    {
      "cell_type": "code",
      "source": [
        "trainer.train()"
      ],
      "metadata": {
        "colab": {
          "base_uri": "https://localhost:8080/",
          "height": 1000
        },
        "id": "pKCa2c0w3TAF",
        "outputId": "519bee83-0089-4c3c-8a74-3152ca711112"
      },
      "execution_count": 50,
      "outputs": [
        {
          "output_type": "display_data",
          "data": {
            "text/plain": [
              "<IPython.core.display.HTML object>"
            ],
            "text/html": [
              "\n",
              "    <div>\n",
              "      \n",
              "      <progress value='16564' max='16564' style='width:300px; height:20px; vertical-align: middle;'></progress>\n",
              "      [16564/16564 4:42:18, Epoch 4/4]\n",
              "    </div>\n",
              "    <table border=\"1\" class=\"dataframe\">\n",
              "  <thead>\n",
              " <tr style=\"text-align: left;\">\n",
              "      <th>Step</th>\n",
              "      <th>Training Loss</th>\n",
              "    </tr>\n",
              "  </thead>\n",
              "  <tbody>\n",
              "    <tr>\n",
              "      <td>1</td>\n",
              "      <td>0.663700</td>\n",
              "    </tr>\n",
              "    <tr>\n",
              "      <td>500</td>\n",
              "      <td>0.147100</td>\n",
              "    </tr>\n",
              "    <tr>\n",
              "      <td>1000</td>\n",
              "      <td>0.064300</td>\n",
              "    </tr>\n",
              "    <tr>\n",
              "      <td>1500</td>\n",
              "      <td>0.052100</td>\n",
              "    </tr>\n",
              "    <tr>\n",
              "      <td>2000</td>\n",
              "      <td>0.045300</td>\n",
              "    </tr>\n",
              "    <tr>\n",
              "      <td>2500</td>\n",
              "      <td>0.043000</td>\n",
              "    </tr>\n",
              "    <tr>\n",
              "      <td>3000</td>\n",
              "      <td>0.039600</td>\n",
              "    </tr>\n",
              "    <tr>\n",
              "      <td>3500</td>\n",
              "      <td>0.037300</td>\n",
              "    </tr>\n",
              "    <tr>\n",
              "      <td>4000</td>\n",
              "      <td>0.036000</td>\n",
              "    </tr>\n",
              "    <tr>\n",
              "      <td>4500</td>\n",
              "      <td>0.033900</td>\n",
              "    </tr>\n",
              "    <tr>\n",
              "      <td>5000</td>\n",
              "      <td>0.031100</td>\n",
              "    </tr>\n",
              "    <tr>\n",
              "      <td>5500</td>\n",
              "      <td>0.031100</td>\n",
              "    </tr>\n",
              "    <tr>\n",
              "      <td>6000</td>\n",
              "      <td>0.031900</td>\n",
              "    </tr>\n",
              "    <tr>\n",
              "      <td>6500</td>\n",
              "      <td>0.028900</td>\n",
              "    </tr>\n",
              "    <tr>\n",
              "      <td>7000</td>\n",
              "      <td>0.031900</td>\n",
              "    </tr>\n",
              "    <tr>\n",
              "      <td>7500</td>\n",
              "      <td>0.029800</td>\n",
              "    </tr>\n",
              "    <tr>\n",
              "      <td>8000</td>\n",
              "      <td>0.029000</td>\n",
              "    </tr>\n",
              "    <tr>\n",
              "      <td>8500</td>\n",
              "      <td>0.028600</td>\n",
              "    </tr>\n",
              "    <tr>\n",
              "      <td>9000</td>\n",
              "      <td>0.024000</td>\n",
              "    </tr>\n",
              "    <tr>\n",
              "      <td>9500</td>\n",
              "      <td>0.024200</td>\n",
              "    </tr>\n",
              "    <tr>\n",
              "      <td>10000</td>\n",
              "      <td>0.023500</td>\n",
              "    </tr>\n",
              "    <tr>\n",
              "      <td>10500</td>\n",
              "      <td>0.024500</td>\n",
              "    </tr>\n",
              "    <tr>\n",
              "      <td>11000</td>\n",
              "      <td>0.024100</td>\n",
              "    </tr>\n",
              "    <tr>\n",
              "      <td>11500</td>\n",
              "      <td>0.024700</td>\n",
              "    </tr>\n",
              "    <tr>\n",
              "      <td>12000</td>\n",
              "      <td>0.023800</td>\n",
              "    </tr>\n",
              "    <tr>\n",
              "      <td>12500</td>\n",
              "      <td>0.021600</td>\n",
              "    </tr>\n",
              "    <tr>\n",
              "      <td>13000</td>\n",
              "      <td>0.019000</td>\n",
              "    </tr>\n",
              "    <tr>\n",
              "      <td>13500</td>\n",
              "      <td>0.019200</td>\n",
              "    </tr>\n",
              "    <tr>\n",
              "      <td>14000</td>\n",
              "      <td>0.020300</td>\n",
              "    </tr>\n",
              "    <tr>\n",
              "      <td>14500</td>\n",
              "      <td>0.018500</td>\n",
              "    </tr>\n",
              "    <tr>\n",
              "      <td>15000</td>\n",
              "      <td>0.019600</td>\n",
              "    </tr>\n",
              "    <tr>\n",
              "      <td>15500</td>\n",
              "      <td>0.019600</td>\n",
              "    </tr>\n",
              "    <tr>\n",
              "      <td>16000</td>\n",
              "      <td>0.019800</td>\n",
              "    </tr>\n",
              "    <tr>\n",
              "      <td>16500</td>\n",
              "      <td>0.021300</td>\n",
              "    </tr>\n",
              "  </tbody>\n",
              "</table><p>"
            ]
          },
          "metadata": {}
        },
        {
          "output_type": "execute_result",
          "data": {
            "text/plain": [
              "TrainOutput(global_step=16564, training_loss=0.032952358629990824, metrics={'train_runtime': 16939.9275, 'train_samples_per_second': 31.283, 'train_steps_per_second': 0.978, 'total_flos': 6.983164548956825e+16, 'train_loss': 0.032952358629990824, 'epoch': 4.0})"
            ]
          },
          "metadata": {},
          "execution_count": 50
        }
      ]
    },
    {
      "cell_type": "code",
      "source": [
        "trainer.save_model(PATHS.save_model)"
      ],
      "metadata": {
        "id": "HT9MGINe6NTX"
      },
      "execution_count": 51,
      "outputs": []
    }
  ]
}